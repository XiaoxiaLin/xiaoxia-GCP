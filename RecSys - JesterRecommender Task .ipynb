{
 "cells": [
  {
   "cell_type": "markdown",
   "metadata": {
    "collapsed": true
   },
   "source": [
    "AUTHOR: XIAOXIA LIN\n",
    "\n",
    "\n",
    "# JOKES recommendations\n",
    "\n",
    "    1. Data exploration\n",
    "        1.1 Split our data into training set and test set\n",
    "        1.2 Plotting \n",
    "            - number of ratings by users\n",
    "            - rating distribution\n",
    "    2. Traditional Neiborhood Collaborative Filtering\n",
    "        2.1 Item-based\n",
    "            2.1.1 Similarity\n",
    "            2.1.2 Prediction\n",
    "        2.2 User-based   \n",
    "            2.2.1 Similarity\n",
    "            2.2.2 Prediction\n",
    "    3. Content-Based recommender.\n",
    "    4. Graph-Based recommender system\n",
    "    5. Evaluation and comparation\n",
    "        - Whole test set\n",
    "        - User with less ratings"
   ]
  },
  {
   "cell_type": "code",
   "execution_count": 2,
   "metadata": {
    "collapsed": true
   },
   "outputs": [],
   "source": [
    "# import session\n",
    "import numpy as np\n",
    "import pandas as pd\n",
    "import random, re, nltk, codecs, time\n",
    "import numpy.linalg as LA\n",
    "from scipy.stats import pearsonr\n",
    "from nltk.tokenize import word_tokenize\n",
    "from nltk.corpus import stopwords\n",
    "from BeautifulSoup import BeautifulSoup\n",
    "from sklearn.feature_extraction.text import TfidfVectorizer\n",
    "from sklearn.metrics.pairwise import linear_kernel\n",
    "import matplotlib.pyplot as plt\n",
    "%matplotlib inline"
   ]
  },
  {
   "cell_type": "markdown",
   "metadata": {},
   "source": [
    "# 1. Data exploration\n",
    "\n",
    "+ jester-data-1: Data from 24,983 users who have rated 36 or more jokes\n",
    "+ jester-data-2: Data from 23,500 users who have rated 36 or more jokes\n",
    "+ jester-data-3: Data from 24,938 users who have rated between 15 and 35 jokes"
   ]
  },
  {
   "cell_type": "code",
   "execution_count": 173,
   "metadata": {
    "collapsed": false
   },
   "outputs": [],
   "source": [
    "def getting_data():\n",
    "\n",
    "    # Create a panda dataframe. \n",
    "    df = pd.read_excel('data/jester/jester-data-1.xls',header=None)\n",
    "    df2 = pd.read_excel('data/jester/jester-data-2.xls',header=None)\n",
    "    df3 = pd.read_excel('data/jester/jester-data-3.xls',header=None)\n",
    "\n",
    "    df = pd.concat([df, df2, df3])\n",
    "    df.index = range(len(df))\n",
    "    \n",
    "    \n",
    "    # get a smaller subset, and split the subset into training set(75%) and test set(25%). \n",
    "    random.seed(47)\n",
    "    df = df.loc[random.sample(df.index, 300)]  \n",
    "    training = []\n",
    "    test = []\n",
    "\n",
    "    training = pd.DataFrame(index=df.index,columns=['items','#items'])\n",
    "    test = pd.DataFrame(index=df.index,columns=['items','#items'])\n",
    "\n",
    "    for index,row in df.iterrows():\n",
    "        row = row[1:]\n",
    "        l = row[row <11] # removing all 99's, so we obtain items that user rate.   \n",
    "        training_indexes = random.sample(l.index,int(0.75*(len(l))))\n",
    "        test_indexes = list(set(l.index) - set(training_indexes))\n",
    "        test['items'].ix[index] = test_indexes\n",
    "        test['#items'].ix[index] = len(test_indexes)\n",
    "        training['items'].ix[index] = training_indexes\n",
    "        training['#items'].ix[index] = len(training_indexes)\n",
    "    return df, training, test"
   ]
  },
  {
   "cell_type": "code",
   "execution_count": 174,
   "metadata": {
    "collapsed": false
   },
   "outputs": [
    {
     "name": "stdout",
     "output_type": "stream",
     "text": [
      "(300, 101)\n"
     ]
    },
    {
     "data": {
      "text/html": [
       "<div>\n",
       "<table border=\"1\" class=\"dataframe\">\n",
       "  <thead>\n",
       "    <tr style=\"text-align: right;\">\n",
       "      <th></th>\n",
       "      <th>0</th>\n",
       "      <th>1</th>\n",
       "      <th>2</th>\n",
       "      <th>3</th>\n",
       "      <th>4</th>\n",
       "      <th>5</th>\n",
       "      <th>6</th>\n",
       "      <th>7</th>\n",
       "      <th>8</th>\n",
       "      <th>9</th>\n",
       "      <th>...</th>\n",
       "      <th>91</th>\n",
       "      <th>92</th>\n",
       "      <th>93</th>\n",
       "      <th>94</th>\n",
       "      <th>95</th>\n",
       "      <th>96</th>\n",
       "      <th>97</th>\n",
       "      <th>98</th>\n",
       "      <th>99</th>\n",
       "      <th>100</th>\n",
       "    </tr>\n",
       "  </thead>\n",
       "  <tbody>\n",
       "    <tr>\n",
       "      <th>25832</th>\n",
       "      <td>71</td>\n",
       "      <td>2.67</td>\n",
       "      <td>4.17</td>\n",
       "      <td>-4.17</td>\n",
       "      <td>-6.26</td>\n",
       "      <td>0.44</td>\n",
       "      <td>5.00</td>\n",
       "      <td>-7.09</td>\n",
       "      <td>-1.17</td>\n",
       "      <td>-1.31</td>\n",
       "      <td>...</td>\n",
       "      <td>-1.50</td>\n",
       "      <td>99.00</td>\n",
       "      <td>99.0</td>\n",
       "      <td>99.0</td>\n",
       "      <td>99.00</td>\n",
       "      <td>99.00</td>\n",
       "      <td>99.00</td>\n",
       "      <td>99.00</td>\n",
       "      <td>99.00</td>\n",
       "      <td>99.00</td>\n",
       "    </tr>\n",
       "    <tr>\n",
       "      <th>31584</th>\n",
       "      <td>100</td>\n",
       "      <td>-0.87</td>\n",
       "      <td>-4.32</td>\n",
       "      <td>2.38</td>\n",
       "      <td>-8.20</td>\n",
       "      <td>4.37</td>\n",
       "      <td>-0.78</td>\n",
       "      <td>-8.98</td>\n",
       "      <td>1.99</td>\n",
       "      <td>-4.22</td>\n",
       "      <td>...</td>\n",
       "      <td>1.12</td>\n",
       "      <td>1.17</td>\n",
       "      <td>-0.1</td>\n",
       "      <td>-3.5</td>\n",
       "      <td>-7.72</td>\n",
       "      <td>-4.27</td>\n",
       "      <td>-1.65</td>\n",
       "      <td>7.18</td>\n",
       "      <td>-5.53</td>\n",
       "      <td>-9.42</td>\n",
       "    </tr>\n",
       "    <tr>\n",
       "      <th>33308</th>\n",
       "      <td>65</td>\n",
       "      <td>3.16</td>\n",
       "      <td>-3.30</td>\n",
       "      <td>1.21</td>\n",
       "      <td>99.00</td>\n",
       "      <td>-3.35</td>\n",
       "      <td>0.78</td>\n",
       "      <td>-2.82</td>\n",
       "      <td>1.12</td>\n",
       "      <td>99.00</td>\n",
       "      <td>...</td>\n",
       "      <td>99.00</td>\n",
       "      <td>99.00</td>\n",
       "      <td>99.0</td>\n",
       "      <td>99.0</td>\n",
       "      <td>99.00</td>\n",
       "      <td>0.00</td>\n",
       "      <td>8.83</td>\n",
       "      <td>99.00</td>\n",
       "      <td>99.00</td>\n",
       "      <td>99.00</td>\n",
       "    </tr>\n",
       "  </tbody>\n",
       "</table>\n",
       "<p>3 rows × 101 columns</p>\n",
       "</div>"
      ],
      "text/plain": [
       "       0     1     2     3      4     5     6     7     8      9    ...    \\\n",
       "25832   71  2.67  4.17 -4.17  -6.26  0.44  5.00 -7.09 -1.17  -1.31  ...     \n",
       "31584  100 -0.87 -4.32  2.38  -8.20  4.37 -0.78 -8.98  1.99  -4.22  ...     \n",
       "33308   65  3.16 -3.30  1.21  99.00 -3.35  0.78 -2.82  1.12  99.00  ...     \n",
       "\n",
       "         91     92    93    94     95     96     97     98     99     100  \n",
       "25832  -1.50  99.00  99.0  99.0  99.00  99.00  99.00  99.00  99.00  99.00  \n",
       "31584   1.12   1.17  -0.1  -3.5  -7.72  -4.27  -1.65   7.18  -5.53  -9.42  \n",
       "33308  99.00  99.00  99.0  99.0  99.00   0.00   8.83  99.00  99.00  99.00  \n",
       "\n",
       "[3 rows x 101 columns]"
      ]
     },
     "execution_count": 174,
     "metadata": {},
     "output_type": "execute_result"
    }
   ],
   "source": [
    "df, training, test = getting_data()\n",
    "\n",
    "print df.shape\n",
    "df.head(3)"
   ]
  },
  {
   "cell_type": "markdown",
   "metadata": {},
   "source": [
    "- The first col is the number of rated items by user. \n",
    "- Continuous ratings from -10 to 10. (99 means missing value)"
   ]
  },
  {
   "cell_type": "code",
   "execution_count": 12,
   "metadata": {
    "collapsed": false,
    "scrolled": true
   },
   "outputs": [
    {
     "name": "stdout",
     "output_type": "stream",
     "text": [
      "(300, 2)\n"
     ]
    },
    {
     "data": {
      "text/html": [
       "<div>\n",
       "<table border=\"1\" class=\"dataframe\">\n",
       "  <thead>\n",
       "    <tr style=\"text-align: right;\">\n",
       "      <th></th>\n",
       "      <th>items</th>\n",
       "      <th>#items</th>\n",
       "    </tr>\n",
       "  </thead>\n",
       "  <tbody>\n",
       "    <tr>\n",
       "      <th>25832</th>\n",
       "      <td>[5, 42, 17, 59, 6, 34, 47, 91, 8, 25, 22, 58, ...</td>\n",
       "      <td>53</td>\n",
       "    </tr>\n",
       "    <tr>\n",
       "      <th>31584</th>\n",
       "      <td>[92, 52, 68, 12, 89, 19, 3, 46, 85, 62, 70, 7,...</td>\n",
       "      <td>75</td>\n",
       "    </tr>\n",
       "    <tr>\n",
       "      <th>33308</th>\n",
       "      <td>[10, 22, 5, 16, 58, 36, 42, 3, 67, 65, 56, 29,...</td>\n",
       "      <td>48</td>\n",
       "    </tr>\n",
       "  </tbody>\n",
       "</table>\n",
       "</div>"
      ],
      "text/plain": [
       "                                                   items #items\n",
       "25832  [5, 42, 17, 59, 6, 34, 47, 91, 8, 25, 22, 58, ...     53\n",
       "31584  [92, 52, 68, 12, 89, 19, 3, 46, 85, 62, 70, 7,...     75\n",
       "33308  [10, 22, 5, 16, 58, 36, 42, 3, 67, 65, 56, 29,...     48"
      ]
     },
     "execution_count": 12,
     "metadata": {},
     "output_type": "execute_result"
    }
   ],
   "source": [
    "print training.shape\n",
    "training.head(3)"
   ]
  },
  {
   "cell_type": "code",
   "execution_count": 13,
   "metadata": {
    "collapsed": false,
    "scrolled": true
   },
   "outputs": [
    {
     "name": "stdout",
     "output_type": "stream",
     "text": [
      "(300, 2)\n"
     ]
    },
    {
     "data": {
      "text/html": [
       "<div>\n",
       "<table border=\"1\" class=\"dataframe\">\n",
       "  <thead>\n",
       "    <tr style=\"text-align: right;\">\n",
       "      <th></th>\n",
       "      <th>items</th>\n",
       "      <th>#items</th>\n",
       "    </tr>\n",
       "  </thead>\n",
       "  <tbody>\n",
       "    <tr>\n",
       "      <th>25832</th>\n",
       "      <td>[68, 66, 67, 4, 40, 10, 11, 12, 45, 61, 16, 51...</td>\n",
       "      <td>18</td>\n",
       "    </tr>\n",
       "    <tr>\n",
       "      <th>31584</th>\n",
       "      <td>[6, 9, 14, 22, 27, 28, 32, 35, 36, 38, 40, 41,...</td>\n",
       "      <td>25</td>\n",
       "    </tr>\n",
       "    <tr>\n",
       "      <th>33308</th>\n",
       "      <td>[32, 97, 2, 35, 8, 60, 11, 12, 14, 47, 21, 25,...</td>\n",
       "      <td>17</td>\n",
       "    </tr>\n",
       "  </tbody>\n",
       "</table>\n",
       "</div>"
      ],
      "text/plain": [
       "                                                   items #items\n",
       "25832  [68, 66, 67, 4, 40, 10, 11, 12, 45, 61, 16, 51...     18\n",
       "31584  [6, 9, 14, 22, 27, 28, 32, 35, 36, 38, 40, 41,...     25\n",
       "33308  [32, 97, 2, 35, 8, 60, 11, 12, 14, 47, 21, 25,...     17"
      ]
     },
     "execution_count": 13,
     "metadata": {},
     "output_type": "execute_result"
    }
   ],
   "source": [
    "print test.shape\n",
    "test.head(3)"
   ]
  },
  {
   "cell_type": "markdown",
   "metadata": {},
   "source": [
    "### 1.2 Plotting\n",
    "\n",
    "#### 1.2.1 Some plots to get an idea of how our data is distributed\n",
    "\n",
    "Our sample data is very similar to our original data in term of the number of ratings by users."
   ]
  },
  {
   "cell_type": "code",
   "execution_count": 11,
   "metadata": {
    "collapsed": false
   },
   "outputs": [
    {
     "data": {
      "text/plain": [
       "<matplotlib.text.Text at 0x1175ae350>"
      ]
     },
     "execution_count": 11,
     "metadata": {},
     "output_type": "execute_result"
    },
    {
     "data": {
      "image/png": "[encoded data removed]",
      "text/plain": [
       "<matplotlib.figure.Figure at 0x1159ab690>"
      ]
     },
     "metadata": {},
     "output_type": "display_data"
    },
    {
     "data": {
      "image/png": "[encoded data removed]",
      "text/plain": [
       "<matplotlib.figure.Figure at 0x117566510>"
      ]
     },
     "metadata": {},
     "output_type": "display_data"
    }
   ],
   "source": [
    "plt.figure(figsize=(8, 5))\n",
    "plt.hist(df[0]*0.75, bins=20, normed=True, label='# items in the original set')\n",
    "plt.legend(loc = \"upper left\")\n",
    "plt.title('number of items by users in the original data set', fontsize=15)\n",
    "\n",
    "plt.figure(figsize=(8, 5))\n",
    "plt.hist(training['#items'], bins=20, normed=True, label='# items in the training set',)\n",
    "plt.legend(loc = \"upper left\")\n",
    "plt.title('number of items by users in the training set', fontsize=15)"
   ]
  },
  {
   "cell_type": "markdown",
   "metadata": {},
   "source": [
    "#### 1.1.2 some rating distribution\n",
    "\n",
    "We can see there is a huge variety of ratings distribution. It is hard to get any conclusion just by looking on those plots."
   ]
  },
  {
   "cell_type": "code",
   "execution_count": 12,
   "metadata": {
    "collapsed": false,
    "scrolled": true
   },
   "outputs": [
    {
     "data": {
      "image/png": "[encoded data removed]",
      "text/plain": [
       "<matplotlib.figure.Figure at 0x1176fc810>"
      ]
     },
     "metadata": {},
     "output_type": "display_data"
    }
   ],
   "source": [
    "users_id = [index for index, rows in training.iterrows()]\n",
    "fig = plt.figure(figsize=(15,10))\n",
    "for num, user in enumerate(users_id[:20]):\n",
    "    y = fig.add_subplot(5,4,num+1)\n",
    "    rating = [df.ix[user, i] for i in training.ix[user,0]]\n",
    "    plt.hist(rating, bins=20, normed=True, label='# ratings')\n",
    "# plt.title('number of ratings by users', fontsize=15)   \n",
    "plt.show()"
   ]
  },
  {
   "cell_type": "markdown",
   "metadata": {},
   "source": [
    "## 2. Traditional Neiborhood Collaborative Filtering\n"
   ]
  },
  {
   "cell_type": "code",
   "execution_count": 14,
   "metadata": {
    "collapsed": false
   },
   "outputs": [
    {
     "name": "stdout",
     "output_type": "stream",
     "text": [
      "user 25832: average rating 0.97\n",
      "user 31584: average rating -1.97\n",
      "user 33308: average rating 0.31\n"
     ]
    }
   ],
   "source": [
    "def average_rating_by_user(u):\n",
    "    rated_item = training.ix[u,0]\n",
    "    ratings = np.array([df.ix[u,i] for i in rated_item])\n",
    "    return np.mean(ratings)\n",
    "\n",
    "# unit test for the average_rating_by_user function\n",
    "users = [index for index, rows in training.iterrows()]\n",
    "for idx, user in enumerate(users[:3]):\n",
    "    print \"user %s: average rating %.2f\"%(user, average_rating_by_user(user))"
   ]
  },
  {
   "cell_type": "code",
   "execution_count": 15,
   "metadata": {
    "collapsed": false
   },
   "outputs": [
    {
     "name": "stdout",
     "output_type": "stream",
     "text": [
      "item  1 has average rating 0.56\n",
      "item  2 has average rating -0.26\n",
      "item  3 has average rating 0.57\n"
     ]
    }
   ],
   "source": [
    "def average_rating_of_item(item):\n",
    "    ratings = [df.ix[u, item] for u in users if df.ix[u,item] <11]\n",
    "    return round(sum(ratings)/len(ratings),4)\n",
    "\n",
    "for i in range(1,4):   # item are from 1 to 100\n",
    "    print \"item %2d has average rating %.2f\" %(i,average_rating_of_item(i))"
   ]
  },
  {
   "cell_type": "markdown",
   "metadata": {
    "collapsed": true
   },
   "source": [
    "\n",
    "## 2.1 *Item-based models*: \n",
    "Similar items are rated in a similar way by the same user.\n",
    "\n",
    "### 2.1.1 Similarity between item $i$ and item $j$, computed by all the users who have rated both items.\n",
    "\n",
    "$$ sim(i,j) = \\frac{\\sum_{u \\in {U_i \\cap U_j}} (R_{u,i}-\\bar{R_u})(R_{u,j}-\\bar{R_u})}{\\sqrt{\\sum_{u \\in {U_i \\cap U_j}} (R_{u,i}-\\bar{R_u})^2}\\sqrt{\\sum_{u \\in {U_i \\cap U_j}} (R_{u,j}-\\bar{R_u})^2})}$$\n",
    "\n",
    "- $ u \\in {U_i \\cap U_j} $ :users who have rated both item $i$ and item $j$\n",
    "- $ \\bar{R_u} $: average rating by user $u$"
   ]
  },
  {
   "cell_type": "code",
   "execution_count": 16,
   "metadata": {
    "collapsed": false
   },
   "outputs": [
    {
     "name": "stdout",
     "output_type": "stream",
     "text": [
      "[25832, 31584, 33308, 25217, 28811, 3003, 30729, 1737, 19368, 35356]\n"
     ]
    }
   ],
   "source": [
    "# find users who have rated both item1 and item2\n",
    "def common_users_for_items(item1, item2):\n",
    "    user_df = df[[item1,item2]].ix[df[item1]<11].ix[df[item2]<11]\n",
    "    common_users = [index for index, rows in user_df.iterrows()]\n",
    "#     print \"Item %d and item %d have %d common users\" %(item1,item2,len(common_users))\n",
    "    return user_df, common_users\n",
    "\n",
    "\n",
    "# Unit test for common_users_for_items function\n",
    "common_users_df, common_users = common_users_for_items(1, 2)\n",
    "print common_users[:10]"
   ]
  },
  {
   "cell_type": "code",
   "execution_count": 17,
   "metadata": {
    "collapsed": false
   },
   "outputs": [
    {
     "name": "stdout",
     "output_type": "stream",
     "text": [
      "0.15496194838 True\n"
     ]
    }
   ],
   "source": [
    "def item_similarity_f(item1, item2):\n",
    "    common_users_df,common_users = common_users_for_items(item1, item2)\n",
    "    numerador, den1, den2 = 0,0,0\n",
    "    for user in common_users:\n",
    "        user_average_rating = average_rating_by_user(user)\n",
    "        user_item1_rating = df.ix[user, item1] \n",
    "        user_item2_rating = df.ix[user, item2] \n",
    "        numerador += (user_item1_rating - user_average_rating)*(user_item2_rating - user_average_rating)\n",
    "        den1 += (user_item1_rating - user_average_rating)**2\n",
    "        den2 += (user_item2_rating - user_average_rating)**2\n",
    "        \n",
    "    sim = numerador/(np.sqrt(den1)*np.sqrt(den2)) \n",
    "    return sim \n",
    "\n",
    "# Unit test for item_similarity function\n",
    "item1 = 4\n",
    "item2 = 7\n",
    "print item_similarity_f(item1, item2)\n",
    "item_similarity_f(item1, item2) == item_similarity_f(item2, item1) "
   ]
  },
  {
   "cell_type": "code",
   "execution_count": 17,
   "metadata": {
    "collapsed": false,
    "scrolled": true
   },
   "outputs": [],
   "source": [
    "def item_sim_dict(training):\n",
    "    sim={}\n",
    "    for item in range(1,100):\n",
    "        sim.setdefault(item, {})\n",
    "        for other_item in range(item, 101):\n",
    "            sim.setdefault(other_item, {})\n",
    "            sim[item][other_item]= item_similarity_f(item, other_item) if item_similarity_f(item, other_item)>0 else 0\n",
    "    return sim"
   ]
  },
  {
   "cell_type": "code",
   "execution_count": 18,
   "metadata": {
    "collapsed": false
   },
   "outputs": [],
   "source": [
    "# saving\n",
    "item_sim_dictionary = item_sim_dict(training)\n",
    "np.save('item_sim_dictionary.npy', item_sim_dictionary)"
   ]
  },
  {
   "cell_type": "code",
   "execution_count": 100,
   "metadata": {
    "collapsed": false,
    "scrolled": true
   },
   "outputs": [
    {
     "data": {
      "text/html": [
       "<div>\n",
       "<table border=\"1\" class=\"dataframe\">\n",
       "  <thead>\n",
       "    <tr style=\"text-align: right;\">\n",
       "      <th></th>\n",
       "      <th>1</th>\n",
       "      <th>2</th>\n",
       "      <th>3</th>\n",
       "      <th>4</th>\n",
       "      <th>5</th>\n",
       "      <th>6</th>\n",
       "      <th>7</th>\n",
       "      <th>8</th>\n",
       "      <th>9</th>\n",
       "      <th>10</th>\n",
       "      <th>...</th>\n",
       "      <th>91</th>\n",
       "      <th>92</th>\n",
       "      <th>93</th>\n",
       "      <th>94</th>\n",
       "      <th>95</th>\n",
       "      <th>96</th>\n",
       "      <th>97</th>\n",
       "      <th>98</th>\n",
       "      <th>99</th>\n",
       "      <th>100</th>\n",
       "    </tr>\n",
       "  </thead>\n",
       "  <tbody>\n",
       "    <tr>\n",
       "      <th>1</th>\n",
       "      <td>1.000000</td>\n",
       "      <td>NaN</td>\n",
       "      <td>NaN</td>\n",
       "      <td>NaN</td>\n",
       "      <td>NaN</td>\n",
       "      <td>NaN</td>\n",
       "      <td>NaN</td>\n",
       "      <td>NaN</td>\n",
       "      <td>NaN</td>\n",
       "      <td>NaN</td>\n",
       "      <td>...</td>\n",
       "      <td>NaN</td>\n",
       "      <td>NaN</td>\n",
       "      <td>NaN</td>\n",
       "      <td>NaN</td>\n",
       "      <td>NaN</td>\n",
       "      <td>NaN</td>\n",
       "      <td>NaN</td>\n",
       "      <td>NaN</td>\n",
       "      <td>NaN</td>\n",
       "      <td>NaN</td>\n",
       "    </tr>\n",
       "    <tr>\n",
       "      <th>2</th>\n",
       "      <td>0.165591</td>\n",
       "      <td>1.000000</td>\n",
       "      <td>NaN</td>\n",
       "      <td>NaN</td>\n",
       "      <td>NaN</td>\n",
       "      <td>NaN</td>\n",
       "      <td>NaN</td>\n",
       "      <td>NaN</td>\n",
       "      <td>NaN</td>\n",
       "      <td>NaN</td>\n",
       "      <td>...</td>\n",
       "      <td>NaN</td>\n",
       "      <td>NaN</td>\n",
       "      <td>NaN</td>\n",
       "      <td>NaN</td>\n",
       "      <td>NaN</td>\n",
       "      <td>NaN</td>\n",
       "      <td>NaN</td>\n",
       "      <td>NaN</td>\n",
       "      <td>NaN</td>\n",
       "      <td>NaN</td>\n",
       "    </tr>\n",
       "    <tr>\n",
       "      <th>3</th>\n",
       "      <td>0.084262</td>\n",
       "      <td>0.044463</td>\n",
       "      <td>1.000000</td>\n",
       "      <td>NaN</td>\n",
       "      <td>NaN</td>\n",
       "      <td>NaN</td>\n",
       "      <td>NaN</td>\n",
       "      <td>NaN</td>\n",
       "      <td>NaN</td>\n",
       "      <td>NaN</td>\n",
       "      <td>...</td>\n",
       "      <td>NaN</td>\n",
       "      <td>NaN</td>\n",
       "      <td>NaN</td>\n",
       "      <td>NaN</td>\n",
       "      <td>NaN</td>\n",
       "      <td>NaN</td>\n",
       "      <td>NaN</td>\n",
       "      <td>NaN</td>\n",
       "      <td>NaN</td>\n",
       "      <td>NaN</td>\n",
       "    </tr>\n",
       "    <tr>\n",
       "      <th>4</th>\n",
       "      <td>0.161872</td>\n",
       "      <td>0.337054</td>\n",
       "      <td>0.148856</td>\n",
       "      <td>1.000000</td>\n",
       "      <td>NaN</td>\n",
       "      <td>NaN</td>\n",
       "      <td>NaN</td>\n",
       "      <td>NaN</td>\n",
       "      <td>NaN</td>\n",
       "      <td>NaN</td>\n",
       "      <td>...</td>\n",
       "      <td>NaN</td>\n",
       "      <td>NaN</td>\n",
       "      <td>NaN</td>\n",
       "      <td>NaN</td>\n",
       "      <td>NaN</td>\n",
       "      <td>NaN</td>\n",
       "      <td>NaN</td>\n",
       "      <td>NaN</td>\n",
       "      <td>NaN</td>\n",
       "      <td>NaN</td>\n",
       "    </tr>\n",
       "    <tr>\n",
       "      <th>5</th>\n",
       "      <td>0.100000</td>\n",
       "      <td>0.106118</td>\n",
       "      <td>0.022914</td>\n",
       "      <td>0.115682</td>\n",
       "      <td>1.0</td>\n",
       "      <td>NaN</td>\n",
       "      <td>NaN</td>\n",
       "      <td>NaN</td>\n",
       "      <td>NaN</td>\n",
       "      <td>NaN</td>\n",
       "      <td>...</td>\n",
       "      <td>NaN</td>\n",
       "      <td>NaN</td>\n",
       "      <td>NaN</td>\n",
       "      <td>NaN</td>\n",
       "      <td>NaN</td>\n",
       "      <td>NaN</td>\n",
       "      <td>NaN</td>\n",
       "      <td>NaN</td>\n",
       "      <td>NaN</td>\n",
       "      <td>NaN</td>\n",
       "    </tr>\n",
       "  </tbody>\n",
       "</table>\n",
       "<p>5 rows × 100 columns</p>\n",
       "</div>"
      ],
      "text/plain": [
       "        1         2         3         4    5    6    7    8    9    10  ...   \\\n",
       "1  1.000000       NaN       NaN       NaN  NaN  NaN  NaN  NaN  NaN  NaN ...    \n",
       "2  0.165591  1.000000       NaN       NaN  NaN  NaN  NaN  NaN  NaN  NaN ...    \n",
       "3  0.084262  0.044463  1.000000       NaN  NaN  NaN  NaN  NaN  NaN  NaN ...    \n",
       "4  0.161872  0.337054  0.148856  1.000000  NaN  NaN  NaN  NaN  NaN  NaN ...    \n",
       "5  0.100000  0.106118  0.022914  0.115682  1.0  NaN  NaN  NaN  NaN  NaN ...    \n",
       "\n",
       "   91   92   93   94   95   96   97   98   99   100  \n",
       "1  NaN  NaN  NaN  NaN  NaN  NaN  NaN  NaN  NaN  NaN  \n",
       "2  NaN  NaN  NaN  NaN  NaN  NaN  NaN  NaN  NaN  NaN  \n",
       "3  NaN  NaN  NaN  NaN  NaN  NaN  NaN  NaN  NaN  NaN  \n",
       "4  NaN  NaN  NaN  NaN  NaN  NaN  NaN  NaN  NaN  NaN  \n",
       "5  NaN  NaN  NaN  NaN  NaN  NaN  NaN  NaN  NaN  NaN  \n",
       "\n",
       "[5 rows x 100 columns]"
      ]
     },
     "execution_count": 100,
     "metadata": {},
     "output_type": "execute_result"
    }
   ],
   "source": [
    "# loading\n",
    "similarity = np.load('item_sim_dictionary.npy')\n",
    "\n",
    "item_sim_df = pd.DataFrame(similarity.item())\n",
    "item_sim_df.head()"
   ]
  },
  {
   "cell_type": "markdown",
   "metadata": {},
   "source": [
    "### 2.1.2 Prediction function\n",
    "\n",
    "Let the top-k matching items to item $i$, for which the user $u$ has specified ratings, be denoted by $Q_i(u)$. The *weighted* average value of these (raw) ratings is reported as the predicted values.\n",
    "\n",
    "\n",
    "$$ \\hat{r}_{ui} = \\frac{ \\sum_{j \\in Q_i(u) } sim(i,j) r_{uj}    }{  \\sum_{j \\in Q_i(u) } |sim(i,j)|   } $$"
   ]
  },
  {
   "cell_type": "code",
   "execution_count": 20,
   "metadata": {
    "collapsed": false
   },
   "outputs": [],
   "source": [
    "# off-line\n",
    "def item_based_collaborative_pred(user, item, k=7):\n",
    "    '''\n",
    "    given the user, and item, and the number of minimum common items,\n",
    "    it returns the predicted rating\n",
    "    '''\n",
    "    rated_item = [i for i in training.ix[user,0] if i!=item]\n",
    "#     print \"\\nUser have rated %d item: \"%len(rated_item),rated_item \n",
    "    similar_items = [(i, item_sim_df[i][item]) if i<item else (i, item_sim_df[item][i]) for i in rated_item ]\n",
    "    similar_items.sort(key=lambda x: x[1], reverse=True)\n",
    "    num,den = 0,0\n",
    "#     print \"\\nThe most similar items to item %d that user have rated:\"%item\n",
    "    for i in similar_items[:k]:    \n",
    "        num += i[1]*df.ix[user,i]\n",
    "        den += np.absolute(i[1])\n",
    "#     print \"(user %6d, item %3d)\"%(user,item),\"pred_rating: %.5f\"%(num/den), \" ----vs---- real rating: %.5f\"%df.ix[user,item]\n",
    "    return num/den\n",
    "\n",
    "\n",
    "# online \n",
    "def item_based_collaborative_pred2(user, item, k=7):\n",
    "    rated_item = [i for i in training.ix[user,0] if i!=item]\n",
    "    similar_items = [(i, item_similarity_f(i, item)) for i in rated_item ]\n",
    "    similar_items.sort(key=lambda x: x[1], reverse=True)\n",
    "    num,den = 0,0\n",
    "    for i in similar_items[:k]:    \n",
    "        num += i[1]*df.ix[user,i]\n",
    "        den += np.absolute(i[1])\n",
    "#     print  \"(user %6d, item %3d)\"%(user,item),\"pred_rating: %.5f\"%(num/den), \" ----vs---- real rating: %.5f\"%df.ix[user,item]\n",
    "    return num/den"
   ]
  },
  {
   "cell_type": "markdown",
   "metadata": {},
   "source": [
    "comparing on-line and off-line methods. For the purpose of this exercise, we definitely want to do it off-line!\n"
   ]
  },
  {
   "cell_type": "code",
   "execution_count": 22,
   "metadata": {
    "collapsed": false
   },
   "outputs": [
    {
     "name": "stdout",
     "output_type": "stream",
     "text": [
      "-3.41839244874\n",
      "off-line prediction took: -- 0.0081 sec\n",
      "\n",
      "-3.41839244874\n",
      "on-line prediction took:-- 12.5024 sec\n"
     ]
    }
   ],
   "source": [
    "start_time = time.time()\n",
    "print item_based_collaborative_pred(users[1], 7, k=7)\n",
    "print  \"off-line prediction took: -- %.4f sec\\n\" % float((time.time() - start_time))\n",
    "\n",
    "start_time = time.time()\n",
    "print item_based_collaborative_pred2(users[1], 7, k=7)\n",
    "print  \"on-line prediction took:-- %.4f sec\" % float((time.time() - start_time))"
   ]
  },
  {
   "cell_type": "markdown",
   "metadata": {},
   "source": [
    "## 2.2 *User based model*: \n",
    "Similar users have similar ratings on the same item.\n",
    "\n",
    "### 2.2.1 Similarity \n",
    "Person correlation:\n",
    "\n",
    "$$ sim(u,v) = \\frac{\\sum_{i \\in I} (R_{u,i}-\\bar{R_u})(R_{v,i}-\\bar{R_v})}{\\sqrt{\\sum_{i \\in I} (R_{u,i}-\\bar{R_u})^2}\\sqrt{\\sum_{i \\in I} (R_{v,i}-\\bar{R_v})^2})}$$\n",
    "\n",
    "where: \n",
    "- $u,v$: users\n",
    "- $ I = I_u \\cap I_v$  is the common items set for user $u$ and user $v$.\n",
    "- $R_{u,i}$:  rating from user u for the item $i \\in I$.\n",
    "- $ \\bar R_{u} $: mean rating from the user $u$."
   ]
  },
  {
   "cell_type": "code",
   "execution_count": 21,
   "metadata": {
    "collapsed": true
   },
   "outputs": [],
   "source": [
    "def SimPearson(user1,user2,min_common_items=1):\n",
    "    ''' \n",
    "    Returns a pearsonCorrealation-based similarity score for user1 and user2\n",
    "    specifying the minimum number of common items. \n",
    "    '''\n",
    "    items_user1 = training.ix[user1,0]\n",
    "    items_user2 = training.ix[user2, 0]\n",
    "    common_items = [i for i in items_user1 if i in items_user2]\n",
    "  \n",
    "    if(len(common_items)<min_common_items):return 0  \n",
    "    \n",
    "    rating_1 = [df.ix[user1, i] for i in common_items]\n",
    "    rating_2 = [df.ix[user2, i] for i in common_items]\n",
    "    res= round(pearsonr(rating_1,rating_2)[0],4)\n",
    "\n",
    "    return res"
   ]
  },
  {
   "cell_type": "code",
   "execution_count": 102,
   "metadata": {
    "collapsed": false
   },
   "outputs": [],
   "source": [
    "# compute the similarity dictionary.\n",
    "# since it is simetric, we can save half of the computating time and memory. \n",
    "\n",
    "def user_sim_dict(training):\n",
    "    users = sorted([index for index, rows in training.iterrows()])\n",
    "    # print users\n",
    "    sim = {}\n",
    "    for idx, user1 in enumerate(users[:len(users)-1]):\n",
    "        sim.setdefault(user1, {})  \n",
    "        for user2 in users[idx:len(users)]:  \n",
    "            sim.setdefault(user2, {})\n",
    "            sim[user1][user2]= SimPearson(user1,user2,min_common_items=10)\\\n",
    "                            if SimPearson(user1,user2,min_common_items=10)>0\\\n",
    "                            else 0\n",
    "    return sim"
   ]
  },
  {
   "cell_type": "code",
   "execution_count": null,
   "metadata": {
    "collapsed": true
   },
   "outputs": [],
   "source": [
    "# saving\n",
    "user_sim_dict_300 = user_sim_dict(training)\n",
    "np.save('user_sim_dict_300.npy', user_sim_dict_300)"
   ]
  },
  {
   "cell_type": "code",
   "execution_count": 103,
   "metadata": {
    "collapsed": false,
    "scrolled": false
   },
   "outputs": [
    {
     "data": {
      "text/html": [
       "<div>\n",
       "<table border=\"1\" class=\"dataframe\">\n",
       "  <thead>\n",
       "    <tr style=\"text-align: right;\">\n",
       "      <th></th>\n",
       "      <th>33</th>\n",
       "      <th>327</th>\n",
       "      <th>519</th>\n",
       "      <th>733</th>\n",
       "      <th>1521</th>\n",
       "      <th>1632</th>\n",
       "      <th>1658</th>\n",
       "      <th>1693</th>\n",
       "      <th>1737</th>\n",
       "      <th>2020</th>\n",
       "      <th>...</th>\n",
       "      <th>70348</th>\n",
       "      <th>70656</th>\n",
       "      <th>70708</th>\n",
       "      <th>70893</th>\n",
       "      <th>71279</th>\n",
       "      <th>71547</th>\n",
       "      <th>72035</th>\n",
       "      <th>72346</th>\n",
       "      <th>72660</th>\n",
       "      <th>72965</th>\n",
       "    </tr>\n",
       "  </thead>\n",
       "  <tbody>\n",
       "    <tr>\n",
       "      <th>33</th>\n",
       "      <td>1.0000</td>\n",
       "      <td>NaN</td>\n",
       "      <td>NaN</td>\n",
       "      <td>NaN</td>\n",
       "      <td>NaN</td>\n",
       "      <td>NaN</td>\n",
       "      <td>NaN</td>\n",
       "      <td>NaN</td>\n",
       "      <td>NaN</td>\n",
       "      <td>NaN</td>\n",
       "      <td>...</td>\n",
       "      <td>NaN</td>\n",
       "      <td>NaN</td>\n",
       "      <td>NaN</td>\n",
       "      <td>NaN</td>\n",
       "      <td>NaN</td>\n",
       "      <td>NaN</td>\n",
       "      <td>NaN</td>\n",
       "      <td>NaN</td>\n",
       "      <td>NaN</td>\n",
       "      <td>NaN</td>\n",
       "    </tr>\n",
       "    <tr>\n",
       "      <th>327</th>\n",
       "      <td>0.2459</td>\n",
       "      <td>1.0000</td>\n",
       "      <td>NaN</td>\n",
       "      <td>NaN</td>\n",
       "      <td>NaN</td>\n",
       "      <td>NaN</td>\n",
       "      <td>NaN</td>\n",
       "      <td>NaN</td>\n",
       "      <td>NaN</td>\n",
       "      <td>NaN</td>\n",
       "      <td>...</td>\n",
       "      <td>NaN</td>\n",
       "      <td>NaN</td>\n",
       "      <td>NaN</td>\n",
       "      <td>NaN</td>\n",
       "      <td>NaN</td>\n",
       "      <td>NaN</td>\n",
       "      <td>NaN</td>\n",
       "      <td>NaN</td>\n",
       "      <td>NaN</td>\n",
       "      <td>NaN</td>\n",
       "    </tr>\n",
       "    <tr>\n",
       "      <th>519</th>\n",
       "      <td>0.0058</td>\n",
       "      <td>0.2039</td>\n",
       "      <td>1.0000</td>\n",
       "      <td>NaN</td>\n",
       "      <td>NaN</td>\n",
       "      <td>NaN</td>\n",
       "      <td>NaN</td>\n",
       "      <td>NaN</td>\n",
       "      <td>NaN</td>\n",
       "      <td>NaN</td>\n",
       "      <td>...</td>\n",
       "      <td>NaN</td>\n",
       "      <td>NaN</td>\n",
       "      <td>NaN</td>\n",
       "      <td>NaN</td>\n",
       "      <td>NaN</td>\n",
       "      <td>NaN</td>\n",
       "      <td>NaN</td>\n",
       "      <td>NaN</td>\n",
       "      <td>NaN</td>\n",
       "      <td>NaN</td>\n",
       "    </tr>\n",
       "    <tr>\n",
       "      <th>733</th>\n",
       "      <td>0.0000</td>\n",
       "      <td>0.2482</td>\n",
       "      <td>0.1716</td>\n",
       "      <td>1.0000</td>\n",
       "      <td>NaN</td>\n",
       "      <td>NaN</td>\n",
       "      <td>NaN</td>\n",
       "      <td>NaN</td>\n",
       "      <td>NaN</td>\n",
       "      <td>NaN</td>\n",
       "      <td>...</td>\n",
       "      <td>NaN</td>\n",
       "      <td>NaN</td>\n",
       "      <td>NaN</td>\n",
       "      <td>NaN</td>\n",
       "      <td>NaN</td>\n",
       "      <td>NaN</td>\n",
       "      <td>NaN</td>\n",
       "      <td>NaN</td>\n",
       "      <td>NaN</td>\n",
       "      <td>NaN</td>\n",
       "    </tr>\n",
       "    <tr>\n",
       "      <th>1521</th>\n",
       "      <td>0.4095</td>\n",
       "      <td>0.0552</td>\n",
       "      <td>0.2263</td>\n",
       "      <td>0.6713</td>\n",
       "      <td>1.0</td>\n",
       "      <td>NaN</td>\n",
       "      <td>NaN</td>\n",
       "      <td>NaN</td>\n",
       "      <td>NaN</td>\n",
       "      <td>NaN</td>\n",
       "      <td>...</td>\n",
       "      <td>NaN</td>\n",
       "      <td>NaN</td>\n",
       "      <td>NaN</td>\n",
       "      <td>NaN</td>\n",
       "      <td>NaN</td>\n",
       "      <td>NaN</td>\n",
       "      <td>NaN</td>\n",
       "      <td>NaN</td>\n",
       "      <td>NaN</td>\n",
       "      <td>NaN</td>\n",
       "    </tr>\n",
       "  </tbody>\n",
       "</table>\n",
       "<p>5 rows × 300 columns</p>\n",
       "</div>"
      ],
      "text/plain": [
       "       33      327     519     733    1521   1632   1658   1693   1737   \\\n",
       "33    1.0000     NaN     NaN     NaN    NaN    NaN    NaN    NaN    NaN   \n",
       "327   0.2459  1.0000     NaN     NaN    NaN    NaN    NaN    NaN    NaN   \n",
       "519   0.0058  0.2039  1.0000     NaN    NaN    NaN    NaN    NaN    NaN   \n",
       "733   0.0000  0.2482  0.1716  1.0000    NaN    NaN    NaN    NaN    NaN   \n",
       "1521  0.4095  0.0552  0.2263  0.6713    1.0    NaN    NaN    NaN    NaN   \n",
       "\n",
       "      2020   ...    70348  70656  70708  70893  71279  71547  72035  72346  \\\n",
       "33      NaN  ...      NaN    NaN    NaN    NaN    NaN    NaN    NaN    NaN   \n",
       "327     NaN  ...      NaN    NaN    NaN    NaN    NaN    NaN    NaN    NaN   \n",
       "519     NaN  ...      NaN    NaN    NaN    NaN    NaN    NaN    NaN    NaN   \n",
       "733     NaN  ...      NaN    NaN    NaN    NaN    NaN    NaN    NaN    NaN   \n",
       "1521    NaN  ...      NaN    NaN    NaN    NaN    NaN    NaN    NaN    NaN   \n",
       "\n",
       "      72660  72965  \n",
       "33      NaN    NaN  \n",
       "327     NaN    NaN  \n",
       "519     NaN    NaN  \n",
       "733     NaN    NaN  \n",
       "1521    NaN    NaN  \n",
       "\n",
       "[5 rows x 300 columns]"
      ]
     },
     "execution_count": 103,
     "metadata": {},
     "output_type": "execute_result"
    }
   ],
   "source": [
    "# loading\n",
    "similarity = np.load('user_sim_dict_300.npy')\n",
    "# print similarity\n",
    "\n",
    "sim_df = pd.DataFrame(similarity.item())\n",
    "sim_df.head()"
   ]
  },
  {
   "cell_type": "code",
   "execution_count": 23,
   "metadata": {
    "collapsed": false
   },
   "outputs": [],
   "source": [
    "def most_similar_users_who_has_rated_item(u,item, k=10):\n",
    "    users = [index for index, rows in training.iterrows()]\n",
    "    users = [vot_u for vot_u in users if df.ix[vot_u,item]<11 and vot_u!=u]\n",
    "    users_and_similarity = [(others,sim_df[u][others]) if others>u else (others,sim_df[others][u]) for others in users]\n",
    "    users_and_similarity = [(u,s) for (u,s) in users_and_similarity if s>0]\n",
    "    users_and_similarity.sort(key=lambda x: x[1],reverse=True)\n",
    "    return users_and_similarity[:k]"
   ]
  },
  {
   "cell_type": "code",
   "execution_count": 105,
   "metadata": {
    "collapsed": false,
    "scrolled": true
   },
   "outputs": [
    {
     "name": "stdout",
     "output_type": "stream",
     "text": [
      "31584 9\n"
     ]
    },
    {
     "data": {
      "text/plain": [
       "[(8984, 0.58760000000000001),\n",
       " (8379, 0.56240000000000001),\n",
       " (2590, 0.55869999999999997),\n",
       " (12971, 0.53969999999999996),\n",
       " (45084, 0.4829),\n",
       " (26639, 0.47020000000000001),\n",
       " (33907, 0.46960000000000002),\n",
       " (31907, 0.46539999999999998),\n",
       " (40991, 0.46529999999999999),\n",
       " (38418, 0.45600000000000002)]"
      ]
     },
     "execution_count": 105,
     "metadata": {},
     "output_type": "execute_result"
    }
   ],
   "source": [
    "# unit test. Take any user, and take any item from this user in the test set. \n",
    "user = users[1]\n",
    "item = test.ix[user,0][1]\n",
    "print user, item\n",
    "most_similar_users_who_has_rated_item(user,item,k=10)"
   ]
  },
  {
   "cell_type": "markdown",
   "metadata": {},
   "source": [
    "### 2.2.2 Prediction function\n",
    "\n",
    "Let $P_u(j)$ be the set of $k$ closest users to target user $u$, who have specified ratings for item $j$. Users with very low or negative correlations with target user $u$ are sometimes filtered from $P_u(j)$ as a heuristic enhancement. Then the overall neghborhood-based *prediction funtion* is as follows:\n",
    " \n",
    "$$\\hat{r}_{u,j} = \\bar{r}_u + \\frac{\\sum_{v \\in P_u(j)} sim(u,v) (r_{v,j} - \\bar{r}_v) }{       \\sum_{v \\in P_u(j)} |sim(u,v)|}   $$"
   ]
  },
  {
   "cell_type": "code",
   "execution_count": 25,
   "metadata": {
    "collapsed": false,
    "scrolled": true
   },
   "outputs": [
    {
     "data": {
      "text/plain": [
       "-0.6613760959888042"
      ]
     },
     "execution_count": 25,
     "metadata": {},
     "output_type": "execute_result"
    }
   ],
   "source": [
    "def user_based_collaborative_pred(user, item, k=10):\n",
    "    num = 0\n",
    "    den = 0\n",
    "    users = [index for index, rows in training.iterrows()]\n",
    "\n",
    "    most_similar_users = most_similar_users_who_has_rated_item(user, item, k)\n",
    "    aver_rating = average_rating_by_user(user)\n",
    "\n",
    "    for (other_user, sim) in most_similar_users:\n",
    "        aver_rating_user = average_rating_by_user(other_user)\n",
    "        num += sim * float(df.ix[other_user,item] - aver_rating_user)\n",
    "        den += np.abs(sim)\n",
    "    #     print \"similar user\", other_user, aver_rating_user,df.ix[other_user,item], num,den\n",
    "        if den==0:\n",
    "            if average_rating_of_item(test_item)>0: \n",
    "                # return the mean item rating if there is no similar for the computation\n",
    "                pred_rating = average_rating_of_item(item)          \n",
    "            else:    # else return mean user rating\n",
    "                pred_rating = average_rating_by_user(other_user)       \n",
    "    pred_rating = aver_rating + num/den\n",
    "#     print \"(user %6d, item %3d)\"%(user,item), \"pred_rating: %.5f\"%pred_rating, \" ----vs---- real rating: %.5f\"%df.ix[user,item]\n",
    "    return pred_rating\n",
    "\n",
    "user_based_collaborative_pred(user, item, 10)"
   ]
  },
  {
   "cell_type": "markdown",
   "metadata": {},
   "source": [
    "## 3. Content-Based recommender\n",
    "\n",
    "Content-based recommender systems try to match users to items that are similar to what they have liked in the past. This similarity is not necessarily based on rating correlations across users but on the basis of the attributes of the objects liked by the user. Unlike collaborative systems, which explicitly leverage the ratings of other users in addition to that of the target user, content-based systems largely focus on the target user’s own ratings and the attributes of the items liked by the user. Therefore, the other users have little, if any, role to play in content-based systems. In other words, the content-based methodology leverages a different source of data for the recommendation process.\n",
    "\n",
    "\n",
    "Content-based methods have some advantages in making recommendations for new items, when sufficient rating data are not available for that item. This is because other items with similar attributes might have been rated by the active user. Therefore, the su-\n",
    "pervised model will be able to leverage these ratings in conjunction with the item attributes to make recommendations even when there is no history of ratings for that item."
   ]
  },
  {
   "cell_type": "code",
   "execution_count": 106,
   "metadata": {
    "collapsed": false
   },
   "outputs": [
    {
     "data": {
      "text/html": [
       "<div>\n",
       "<table border=\"1\" class=\"dataframe\">\n",
       "  <thead>\n",
       "    <tr style=\"text-align: right;\">\n",
       "      <th></th>\n",
       "      <th>joke_index</th>\n",
       "      <th>joke_text</th>\n",
       "    </tr>\n",
       "  </thead>\n",
       "  <tbody>\n",
       "    <tr>\n",
       "      <th>0</th>\n",
       "      <td>1</td>\n",
       "      <td>a man visits the doctor. the doctor says \"i ha...</td>\n",
       "    </tr>\n",
       "    <tr>\n",
       "      <th>1</th>\n",
       "      <td>2</td>\n",
       "      <td>this couple had an excellent relationship goin...</td>\n",
       "    </tr>\n",
       "    <tr>\n",
       "      <th>2</th>\n",
       "      <td>3</td>\n",
       "      <td>q. what's 200 feet long and has 4 teeth?a. the...</td>\n",
       "    </tr>\n",
       "    <tr>\n",
       "      <th>3</th>\n",
       "      <td>4</td>\n",
       "      <td>q. what's the difference between a man and a t...</td>\n",
       "    </tr>\n",
       "    <tr>\n",
       "      <th>4</th>\n",
       "      <td>5</td>\n",
       "      <td>q.\\twhat's o. j. simpson's internet address?a....</td>\n",
       "    </tr>\n",
       "  </tbody>\n",
       "</table>\n",
       "</div>"
      ],
      "text/plain": [
       "   joke_index                                          joke_text\n",
       "0           1  a man visits the doctor. the doctor says \"i ha...\n",
       "1           2  this couple had an excellent relationship goin...\n",
       "2           3  q. what's 200 feet long and has 4 teeth?a. the...\n",
       "3           4  q. what's the difference between a man and a t...\n",
       "4           5  q.\\twhat's o. j. simpson's internet address?a...."
      ]
     },
     "execution_count": 106,
     "metadata": {},
     "output_type": "execute_result"
    }
   ],
   "source": [
    "def joke_dictionary_buider():\n",
    "    joke_dic={}\n",
    "    for i in range(1,101):\n",
    "        f=codecs.open(\"./data/jester/jokes/init%d.html\"%i, 'r', 'utf-8')\n",
    "        joke =  f.read()\n",
    "        for j in re.findall('<!--begin of joke -->(.*)<!--end of joke -->', joke, re.S):\n",
    "            cleantext = BeautifulSoup(j).text.lower()\n",
    "        joke_dic[i] = cleantext\n",
    "    return joke_dic\n",
    "\n",
    "# Convert to dataframe\n",
    "joke_dic = joke_dictionary_buider()\n",
    "joke_df = pd.DataFrame.from_dict(joke_dic, orient='index').reset_index()\n",
    "\n",
    "# Clean up column names\n",
    "joke_df.rename(columns={'index': 'joke_index', 0: 'joke_text'}, inplace=True)\n",
    "joke_df.head()"
   ]
  },
  {
   "cell_type": "code",
   "execution_count": 34,
   "metadata": {
    "collapsed": true
   },
   "outputs": [],
   "source": [
    "def content_sim_buider(df):\n",
    "\n",
    "    SIMKEY = {}\n",
    "    tf = TfidfVectorizer(analyzer='word',\n",
    "                         ngram_range=(1, 3),\n",
    "                         min_df=0,\n",
    "                         stop_words='english')\n",
    "    tfidf_matrix = tf.fit_transform(df['joke_text'])\n",
    "    cosine_similarities = linear_kernel(tfidf_matrix, tfidf_matrix)\n",
    "\n",
    "    for idx, row in df.iterrows():\n",
    "\n",
    "        SIMKEY.setdefault(idx+1, {})\n",
    "        similar_indices = cosine_similarities[idx].argsort()[:-101:-1]\n",
    "        similar_items = [(cosine_similarities[idx][i], df['joke_index'][i])\n",
    "                         for i in similar_indices]\n",
    "        for i in similar_indices:\n",
    "            SIMKEY[idx+1][df['joke_index'][i]]=cosine_similarities[idx][i] \n",
    "        # First item is the item itself, so remove it.\n",
    "        # This 'sum' is turns a list of tuples into a single tuple:\n",
    "        # [(1,2), (3,4)] -> (1,2,3,4)\n",
    "        flattened = sum(similar_items[1:], ())\n",
    "    return SIMKEY"
   ]
  },
  {
   "cell_type": "code",
   "execution_count": 35,
   "metadata": {
    "collapsed": true
   },
   "outputs": [],
   "source": [
    "# saving\n",
    "np.save('content_based_sim_dictionary.npy', content_sim_buider(joke_df))"
   ]
  },
  {
   "cell_type": "code",
   "execution_count": 36,
   "metadata": {
    "collapsed": false,
    "scrolled": true
   },
   "outputs": [
    {
     "data": {
      "text/html": [
       "<div>\n",
       "<table border=\"1\" class=\"dataframe\">\n",
       "  <thead>\n",
       "    <tr style=\"text-align: right;\">\n",
       "      <th></th>\n",
       "      <th>1</th>\n",
       "      <th>2</th>\n",
       "      <th>3</th>\n",
       "      <th>4</th>\n",
       "      <th>5</th>\n",
       "      <th>6</th>\n",
       "      <th>7</th>\n",
       "      <th>8</th>\n",
       "      <th>9</th>\n",
       "      <th>10</th>\n",
       "      <th>...</th>\n",
       "      <th>91</th>\n",
       "      <th>92</th>\n",
       "      <th>93</th>\n",
       "      <th>94</th>\n",
       "      <th>95</th>\n",
       "      <th>96</th>\n",
       "      <th>97</th>\n",
       "      <th>98</th>\n",
       "      <th>99</th>\n",
       "      <th>100</th>\n",
       "    </tr>\n",
       "  </thead>\n",
       "  <tbody>\n",
       "    <tr>\n",
       "      <th>1</th>\n",
       "      <td>1.000000</td>\n",
       "      <td>0.000000</td>\n",
       "      <td>0.0</td>\n",
       "      <td>0.022728</td>\n",
       "      <td>0.0</td>\n",
       "      <td>0.002625</td>\n",
       "      <td>0.000000</td>\n",
       "      <td>0.0</td>\n",
       "      <td>0.008334</td>\n",
       "      <td>0.007320</td>\n",
       "      <td>...</td>\n",
       "      <td>0.000000</td>\n",
       "      <td>0.012228</td>\n",
       "      <td>0.000000</td>\n",
       "      <td>0.019716</td>\n",
       "      <td>0.000000</td>\n",
       "      <td>0.000000</td>\n",
       "      <td>0.005506</td>\n",
       "      <td>0.000000</td>\n",
       "      <td>0.000000</td>\n",
       "      <td>0.000000</td>\n",
       "    </tr>\n",
       "    <tr>\n",
       "      <th>2</th>\n",
       "      <td>0.000000</td>\n",
       "      <td>1.000000</td>\n",
       "      <td>0.0</td>\n",
       "      <td>0.000000</td>\n",
       "      <td>0.0</td>\n",
       "      <td>0.009208</td>\n",
       "      <td>0.000000</td>\n",
       "      <td>0.0</td>\n",
       "      <td>0.000000</td>\n",
       "      <td>0.000000</td>\n",
       "      <td>...</td>\n",
       "      <td>0.000000</td>\n",
       "      <td>0.005402</td>\n",
       "      <td>0.023820</td>\n",
       "      <td>0.000000</td>\n",
       "      <td>0.000000</td>\n",
       "      <td>0.019035</td>\n",
       "      <td>0.017067</td>\n",
       "      <td>0.000000</td>\n",
       "      <td>0.000000</td>\n",
       "      <td>0.000000</td>\n",
       "    </tr>\n",
       "    <tr>\n",
       "      <th>3</th>\n",
       "      <td>0.000000</td>\n",
       "      <td>0.000000</td>\n",
       "      <td>1.0</td>\n",
       "      <td>0.000000</td>\n",
       "      <td>0.0</td>\n",
       "      <td>0.000000</td>\n",
       "      <td>0.000000</td>\n",
       "      <td>0.0</td>\n",
       "      <td>0.000000</td>\n",
       "      <td>0.000000</td>\n",
       "      <td>...</td>\n",
       "      <td>0.000000</td>\n",
       "      <td>0.000000</td>\n",
       "      <td>0.000000</td>\n",
       "      <td>0.000000</td>\n",
       "      <td>0.000000</td>\n",
       "      <td>0.000000</td>\n",
       "      <td>0.000000</td>\n",
       "      <td>0.000000</td>\n",
       "      <td>0.000000</td>\n",
       "      <td>0.000000</td>\n",
       "    </tr>\n",
       "    <tr>\n",
       "      <th>4</th>\n",
       "      <td>0.022728</td>\n",
       "      <td>0.000000</td>\n",
       "      <td>0.0</td>\n",
       "      <td>1.000000</td>\n",
       "      <td>0.0</td>\n",
       "      <td>0.000000</td>\n",
       "      <td>0.000000</td>\n",
       "      <td>0.0</td>\n",
       "      <td>0.000000</td>\n",
       "      <td>0.000000</td>\n",
       "      <td>...</td>\n",
       "      <td>0.000000</td>\n",
       "      <td>0.000000</td>\n",
       "      <td>0.000000</td>\n",
       "      <td>0.000000</td>\n",
       "      <td>0.000000</td>\n",
       "      <td>0.000000</td>\n",
       "      <td>0.013465</td>\n",
       "      <td>0.000000</td>\n",
       "      <td>0.000000</td>\n",
       "      <td>0.016740</td>\n",
       "    </tr>\n",
       "    <tr>\n",
       "      <th>5</th>\n",
       "      <td>0.000000</td>\n",
       "      <td>0.000000</td>\n",
       "      <td>0.0</td>\n",
       "      <td>0.000000</td>\n",
       "      <td>1.0</td>\n",
       "      <td>0.000000</td>\n",
       "      <td>0.000000</td>\n",
       "      <td>0.0</td>\n",
       "      <td>0.000000</td>\n",
       "      <td>0.000000</td>\n",
       "      <td>...</td>\n",
       "      <td>0.000000</td>\n",
       "      <td>0.000000</td>\n",
       "      <td>0.000000</td>\n",
       "      <td>0.000000</td>\n",
       "      <td>0.000000</td>\n",
       "      <td>0.000000</td>\n",
       "      <td>0.000000</td>\n",
       "      <td>0.000000</td>\n",
       "      <td>0.000000</td>\n",
       "      <td>0.000000</td>\n",
       "    </tr>\n",
       "    <tr>\n",
       "      <th>6</th>\n",
       "      <td>0.002625</td>\n",
       "      <td>0.009208</td>\n",
       "      <td>0.0</td>\n",
       "      <td>0.000000</td>\n",
       "      <td>0.0</td>\n",
       "      <td>1.000000</td>\n",
       "      <td>0.000000</td>\n",
       "      <td>0.0</td>\n",
       "      <td>0.009064</td>\n",
       "      <td>0.016657</td>\n",
       "      <td>...</td>\n",
       "      <td>0.020474</td>\n",
       "      <td>0.037902</td>\n",
       "      <td>0.016121</td>\n",
       "      <td>0.011874</td>\n",
       "      <td>0.000000</td>\n",
       "      <td>0.000000</td>\n",
       "      <td>0.003001</td>\n",
       "      <td>0.000000</td>\n",
       "      <td>0.065688</td>\n",
       "      <td>0.010234</td>\n",
       "    </tr>\n",
       "    <tr>\n",
       "      <th>7</th>\n",
       "      <td>0.000000</td>\n",
       "      <td>0.000000</td>\n",
       "      <td>0.0</td>\n",
       "      <td>0.000000</td>\n",
       "      <td>0.0</td>\n",
       "      <td>0.000000</td>\n",
       "      <td>1.000000</td>\n",
       "      <td>0.0</td>\n",
       "      <td>0.000000</td>\n",
       "      <td>0.077189</td>\n",
       "      <td>...</td>\n",
       "      <td>0.000000</td>\n",
       "      <td>0.000000</td>\n",
       "      <td>0.000000</td>\n",
       "      <td>0.000000</td>\n",
       "      <td>0.000000</td>\n",
       "      <td>0.000000</td>\n",
       "      <td>0.000000</td>\n",
       "      <td>0.000000</td>\n",
       "      <td>0.000000</td>\n",
       "      <td>0.000000</td>\n",
       "    </tr>\n",
       "    <tr>\n",
       "      <th>8</th>\n",
       "      <td>0.000000</td>\n",
       "      <td>0.000000</td>\n",
       "      <td>0.0</td>\n",
       "      <td>0.000000</td>\n",
       "      <td>0.0</td>\n",
       "      <td>0.000000</td>\n",
       "      <td>0.000000</td>\n",
       "      <td>1.0</td>\n",
       "      <td>0.000000</td>\n",
       "      <td>0.000000</td>\n",
       "      <td>...</td>\n",
       "      <td>0.008306</td>\n",
       "      <td>0.000000</td>\n",
       "      <td>0.000000</td>\n",
       "      <td>0.000000</td>\n",
       "      <td>0.000000</td>\n",
       "      <td>0.000000</td>\n",
       "      <td>0.000000</td>\n",
       "      <td>0.000000</td>\n",
       "      <td>0.000000</td>\n",
       "      <td>0.000000</td>\n",
       "    </tr>\n",
       "    <tr>\n",
       "      <th>9</th>\n",
       "      <td>0.008334</td>\n",
       "      <td>0.000000</td>\n",
       "      <td>0.0</td>\n",
       "      <td>0.000000</td>\n",
       "      <td>0.0</td>\n",
       "      <td>0.009064</td>\n",
       "      <td>0.000000</td>\n",
       "      <td>0.0</td>\n",
       "      <td>1.000000</td>\n",
       "      <td>0.003993</td>\n",
       "      <td>...</td>\n",
       "      <td>0.009408</td>\n",
       "      <td>0.011113</td>\n",
       "      <td>0.003488</td>\n",
       "      <td>0.016038</td>\n",
       "      <td>0.005524</td>\n",
       "      <td>0.000000</td>\n",
       "      <td>0.003004</td>\n",
       "      <td>0.007114</td>\n",
       "      <td>0.000000</td>\n",
       "      <td>0.000000</td>\n",
       "    </tr>\n",
       "    <tr>\n",
       "      <th>10</th>\n",
       "      <td>0.007320</td>\n",
       "      <td>0.000000</td>\n",
       "      <td>0.0</td>\n",
       "      <td>0.000000</td>\n",
       "      <td>0.0</td>\n",
       "      <td>0.016657</td>\n",
       "      <td>0.077189</td>\n",
       "      <td>0.0</td>\n",
       "      <td>0.003993</td>\n",
       "      <td>1.000000</td>\n",
       "      <td>...</td>\n",
       "      <td>0.011417</td>\n",
       "      <td>0.000000</td>\n",
       "      <td>0.000000</td>\n",
       "      <td>0.014800</td>\n",
       "      <td>0.000000</td>\n",
       "      <td>0.000000</td>\n",
       "      <td>0.008366</td>\n",
       "      <td>0.000000</td>\n",
       "      <td>0.000000</td>\n",
       "      <td>0.000000</td>\n",
       "    </tr>\n",
       "  </tbody>\n",
       "</table>\n",
       "<p>10 rows × 100 columns</p>\n",
       "</div>"
      ],
      "text/plain": [
       "         1         2    3         4    5         6         7    8         9    \\\n",
       "1   1.000000  0.000000  0.0  0.022728  0.0  0.002625  0.000000  0.0  0.008334   \n",
       "2   0.000000  1.000000  0.0  0.000000  0.0  0.009208  0.000000  0.0  0.000000   \n",
       "3   0.000000  0.000000  1.0  0.000000  0.0  0.000000  0.000000  0.0  0.000000   \n",
       "4   0.022728  0.000000  0.0  1.000000  0.0  0.000000  0.000000  0.0  0.000000   \n",
       "5   0.000000  0.000000  0.0  0.000000  1.0  0.000000  0.000000  0.0  0.000000   \n",
       "6   0.002625  0.009208  0.0  0.000000  0.0  1.000000  0.000000  0.0  0.009064   \n",
       "7   0.000000  0.000000  0.0  0.000000  0.0  0.000000  1.000000  0.0  0.000000   \n",
       "8   0.000000  0.000000  0.0  0.000000  0.0  0.000000  0.000000  1.0  0.000000   \n",
       "9   0.008334  0.000000  0.0  0.000000  0.0  0.009064  0.000000  0.0  1.000000   \n",
       "10  0.007320  0.000000  0.0  0.000000  0.0  0.016657  0.077189  0.0  0.003993   \n",
       "\n",
       "         10     ...          91        92        93        94        95   \\\n",
       "1   0.007320    ...     0.000000  0.012228  0.000000  0.019716  0.000000   \n",
       "2   0.000000    ...     0.000000  0.005402  0.023820  0.000000  0.000000   \n",
       "3   0.000000    ...     0.000000  0.000000  0.000000  0.000000  0.000000   \n",
       "4   0.000000    ...     0.000000  0.000000  0.000000  0.000000  0.000000   \n",
       "5   0.000000    ...     0.000000  0.000000  0.000000  0.000000  0.000000   \n",
       "6   0.016657    ...     0.020474  0.037902  0.016121  0.011874  0.000000   \n",
       "7   0.077189    ...     0.000000  0.000000  0.000000  0.000000  0.000000   \n",
       "8   0.000000    ...     0.008306  0.000000  0.000000  0.000000  0.000000   \n",
       "9   0.003993    ...     0.009408  0.011113  0.003488  0.016038  0.005524   \n",
       "10  1.000000    ...     0.011417  0.000000  0.000000  0.014800  0.000000   \n",
       "\n",
       "         96        97        98        99        100  \n",
       "1   0.000000  0.005506  0.000000  0.000000  0.000000  \n",
       "2   0.019035  0.017067  0.000000  0.000000  0.000000  \n",
       "3   0.000000  0.000000  0.000000  0.000000  0.000000  \n",
       "4   0.000000  0.013465  0.000000  0.000000  0.016740  \n",
       "5   0.000000  0.000000  0.000000  0.000000  0.000000  \n",
       "6   0.000000  0.003001  0.000000  0.065688  0.010234  \n",
       "7   0.000000  0.000000  0.000000  0.000000  0.000000  \n",
       "8   0.000000  0.000000  0.000000  0.000000  0.000000  \n",
       "9   0.000000  0.003004  0.007114  0.000000  0.000000  \n",
       "10  0.000000  0.008366  0.000000  0.000000  0.000000  \n",
       "\n",
       "[10 rows x 100 columns]"
      ]
     },
     "execution_count": 36,
     "metadata": {},
     "output_type": "execute_result"
    }
   ],
   "source": [
    "# loading\n",
    "content_based_sim_dictionary = np.load('content_based_sim_dictionary.npy')\n",
    "\n",
    "# convert to data frame\n",
    "content_based_sim_df = pd.DataFrame(content_based_sim_dictionary.item())\n",
    "content_based_sim_df.head(10)"
   ]
  },
  {
   "cell_type": "code",
   "execution_count": 29,
   "metadata": {
    "collapsed": false
   },
   "outputs": [],
   "source": [
    "def content_based_collaborative_pred(user, item, k=7):\n",
    "    '''\n",
    "    given the user, and item, and the number of minimum common items,\n",
    "    it returns the predicted rating\n",
    "    '''\n",
    "    rated_item = [i for i in training.ix[user,0] if i!=item]\n",
    "#     print \"\\nUser %d have rated %d item: \"%(user,len(rated_item)) #,rated_item \n",
    "    similar_items = [(i, content_based_sim_df[i][item]) for i in rated_item ]\n",
    "    similar_items.sort(key=lambda x: x[1], reverse=True)\n",
    "    num,den = 0,0\n",
    "#     print \"\\nThe most similar items to item %d that user have rated:\"%item\n",
    "    for i in similar_items[:k]: \n",
    "        num += i[1]*df.ix[user,i]\n",
    "        den += np.absolute(i[1])\n",
    "    if den == 0:\n",
    "        return average_rating_of_item(item)\n",
    "#     print \"(user %6d, item %3d)\"%(user,item),\"pred_rating: %.5f\"%(num/den), \" ----vs---- real rating: %.5f\"%df.ix[user,item]\n",
    "    else: return num/den"
   ]
  },
  {
   "cell_type": "markdown",
   "metadata": {},
   "source": [
    "# 4. Graph-Based Recommendation System\n",
    "\n",
    "### 4.1 Item-Item graph"
   ]
  },
  {
   "cell_type": "code",
   "execution_count": 32,
   "metadata": {
    "collapsed": true
   },
   "outputs": [],
   "source": [
    "# create a dictionary of counts\n",
    "def common_user_count_dict_buider(common_users_for_items):\n",
    "    common_user_count = {}\n",
    "    for item1 in range(1,101):\n",
    "        common_user_count.setdefault(item1, {})  \n",
    "        common_user_count[item1][item1] = 0\n",
    "        for item2 in range(item1+1, 101):\n",
    "            common_user_count.setdefault(item2, {})\n",
    "            _,common_users = common_users_for_items(item1, item2)\n",
    "            common_user_count[item1][item2] = len(common_users)\n",
    "            common_user_count[item2][item1] = len(common_users)\n",
    "    return common_user_count\n",
    "\n",
    "# saving\n",
    "common_user_count = common_user_count_dict_buider(common_users_for_items)\n",
    "np.save('common_user_count_dict.npy', common_user_count)"
   ]
  },
  {
   "cell_type": "code",
   "execution_count": 77,
   "metadata": {
    "collapsed": false,
    "scrolled": true
   },
   "outputs": [
    {
     "data": {
      "text/html": [
       "<div>\n",
       "<table border=\"1\" class=\"dataframe\">\n",
       "  <thead>\n",
       "    <tr style=\"text-align: right;\">\n",
       "      <th></th>\n",
       "      <th>1</th>\n",
       "      <th>2</th>\n",
       "      <th>3</th>\n",
       "      <th>4</th>\n",
       "      <th>5</th>\n",
       "      <th>6</th>\n",
       "      <th>7</th>\n",
       "      <th>8</th>\n",
       "      <th>9</th>\n",
       "      <th>10</th>\n",
       "      <th>...</th>\n",
       "      <th>91</th>\n",
       "      <th>92</th>\n",
       "      <th>93</th>\n",
       "      <th>94</th>\n",
       "      <th>95</th>\n",
       "      <th>96</th>\n",
       "      <th>97</th>\n",
       "      <th>98</th>\n",
       "      <th>99</th>\n",
       "      <th>100</th>\n",
       "    </tr>\n",
       "  </thead>\n",
       "  <tbody>\n",
       "    <tr>\n",
       "      <th>1</th>\n",
       "      <td>0.000000</td>\n",
       "      <td>0.010971</td>\n",
       "      <td>0.011196</td>\n",
       "      <td>0.011193</td>\n",
       "      <td>0.007783</td>\n",
       "      <td>0.010021</td>\n",
       "      <td>0.007783</td>\n",
       "      <td>0.007783</td>\n",
       "      <td>0.011195</td>\n",
       "      <td>0.010110</td>\n",
       "      <td>...</td>\n",
       "      <td>0.009792</td>\n",
       "      <td>0.009970</td>\n",
       "      <td>0.009779</td>\n",
       "      <td>0.009913</td>\n",
       "      <td>0.009705</td>\n",
       "      <td>0.010028</td>\n",
       "      <td>0.009778</td>\n",
       "      <td>0.010173</td>\n",
       "      <td>0.010292</td>\n",
       "      <td>0.010563</td>\n",
       "    </tr>\n",
       "    <tr>\n",
       "      <th>2</th>\n",
       "      <td>0.011591</td>\n",
       "      <td>0.000000</td>\n",
       "      <td>0.011633</td>\n",
       "      <td>0.011466</td>\n",
       "      <td>0.008437</td>\n",
       "      <td>0.010786</td>\n",
       "      <td>0.008437</td>\n",
       "      <td>0.008437</td>\n",
       "      <td>0.011377</td>\n",
       "      <td>0.010882</td>\n",
       "      <td>...</td>\n",
       "      <td>0.009792</td>\n",
       "      <td>0.010086</td>\n",
       "      <td>0.009895</td>\n",
       "      <td>0.009913</td>\n",
       "      <td>0.010048</td>\n",
       "      <td>0.010028</td>\n",
       "      <td>0.010119</td>\n",
       "      <td>0.010401</td>\n",
       "      <td>0.010402</td>\n",
       "      <td>0.010563</td>\n",
       "    </tr>\n",
       "    <tr>\n",
       "      <th>3</th>\n",
       "      <td>0.011325</td>\n",
       "      <td>0.011138</td>\n",
       "      <td>0.000000</td>\n",
       "      <td>0.011375</td>\n",
       "      <td>0.007902</td>\n",
       "      <td>0.010174</td>\n",
       "      <td>0.007902</td>\n",
       "      <td>0.007902</td>\n",
       "      <td>0.011195</td>\n",
       "      <td>0.010265</td>\n",
       "      <td>...</td>\n",
       "      <td>0.009792</td>\n",
       "      <td>0.009970</td>\n",
       "      <td>0.009779</td>\n",
       "      <td>0.009913</td>\n",
       "      <td>0.009820</td>\n",
       "      <td>0.010028</td>\n",
       "      <td>0.009778</td>\n",
       "      <td>0.010287</td>\n",
       "      <td>0.010292</td>\n",
       "      <td>0.010563</td>\n",
       "    </tr>\n",
       "    <tr>\n",
       "      <th>4</th>\n",
       "      <td>0.010883</td>\n",
       "      <td>0.010552</td>\n",
       "      <td>0.010933</td>\n",
       "      <td>0.000000</td>\n",
       "      <td>0.007486</td>\n",
       "      <td>0.009639</td>\n",
       "      <td>0.007486</td>\n",
       "      <td>0.007486</td>\n",
       "      <td>0.011104</td>\n",
       "      <td>0.009724</td>\n",
       "      <td>...</td>\n",
       "      <td>0.009673</td>\n",
       "      <td>0.010086</td>\n",
       "      <td>0.009779</td>\n",
       "      <td>0.009913</td>\n",
       "      <td>0.009820</td>\n",
       "      <td>0.009911</td>\n",
       "      <td>0.009665</td>\n",
       "      <td>0.010287</td>\n",
       "      <td>0.010073</td>\n",
       "      <td>0.010563</td>\n",
       "    </tr>\n",
       "    <tr>\n",
       "      <th>5</th>\n",
       "      <td>0.011591</td>\n",
       "      <td>0.011892</td>\n",
       "      <td>0.011633</td>\n",
       "      <td>0.011466</td>\n",
       "      <td>0.000000</td>\n",
       "      <td>0.012622</td>\n",
       "      <td>0.017824</td>\n",
       "      <td>0.017824</td>\n",
       "      <td>0.011468</td>\n",
       "      <td>0.012503</td>\n",
       "      <td>...</td>\n",
       "      <td>0.011822</td>\n",
       "      <td>0.011941</td>\n",
       "      <td>0.012107</td>\n",
       "      <td>0.011447</td>\n",
       "      <td>0.011875</td>\n",
       "      <td>0.011544</td>\n",
       "      <td>0.011711</td>\n",
       "      <td>0.011201</td>\n",
       "      <td>0.011497</td>\n",
       "      <td>0.010563</td>\n",
       "    </tr>\n",
       "  </tbody>\n",
       "</table>\n",
       "<p>5 rows × 100 columns</p>\n",
       "</div>"
      ],
      "text/plain": [
       "        1         2         3         4         5         6         7    \\\n",
       "1  0.000000  0.010971  0.011196  0.011193  0.007783  0.010021  0.007783   \n",
       "2  0.011591  0.000000  0.011633  0.011466  0.008437  0.010786  0.008437   \n",
       "3  0.011325  0.011138  0.000000  0.011375  0.007902  0.010174  0.007902   \n",
       "4  0.010883  0.010552  0.010933  0.000000  0.007486  0.009639  0.007486   \n",
       "5  0.011591  0.011892  0.011633  0.011466  0.000000  0.012622  0.017824   \n",
       "\n",
       "        8         9         10     ...          91        92        93   \\\n",
       "1  0.007783  0.011195  0.010110    ...     0.009792  0.009970  0.009779   \n",
       "2  0.008437  0.011377  0.010882    ...     0.009792  0.010086  0.009895   \n",
       "3  0.007902  0.011195  0.010265    ...     0.009792  0.009970  0.009779   \n",
       "4  0.007486  0.011104  0.009724    ...     0.009673  0.010086  0.009779   \n",
       "5  0.017824  0.011468  0.012503    ...     0.011822  0.011941  0.012107   \n",
       "\n",
       "        94        95        96        97        98        99        100  \n",
       "1  0.009913  0.009705  0.010028  0.009778  0.010173  0.010292  0.010563  \n",
       "2  0.009913  0.010048  0.010028  0.010119  0.010401  0.010402  0.010563  \n",
       "3  0.009913  0.009820  0.010028  0.009778  0.010287  0.010292  0.010563  \n",
       "4  0.009913  0.009820  0.009911  0.009665  0.010287  0.010073  0.010563  \n",
       "5  0.011447  0.011875  0.011544  0.011711  0.011201  0.011497  0.010563  \n",
       "\n",
       "[5 rows x 100 columns]"
      ]
     },
     "execution_count": 77,
     "metadata": {},
     "output_type": "execute_result"
    }
   ],
   "source": [
    "# loading\n",
    "common_user_count_dict = np.load('common_user_count_dict.npy')\n",
    "\n",
    "# convert to dataframe\n",
    "item_item_graph_df = pd.DataFrame(common_user_count_dict.item())\n",
    "\n",
    "# normalize the dataframe to be column stochastic\n",
    "for i in range(1,101):   \n",
    "    item_item_graph_df[i] /= sum(item_item_graph_df[i]) \n",
    "item_item_graph_df.head()"
   ]
  },
  {
   "cell_type": "code",
   "execution_count": 72,
   "metadata": {
    "collapsed": false,
    "scrolled": true
   },
   "outputs": [],
   "source": [
    "def personalized_page_rank(df, user, A, \n",
    "                           alpha=0.9, \n",
    "                           tolerance = 10**-15, \n",
    "                           max_iterations = 20, \n",
    "                           x0 = (1./100)*np.ones((100,1))):\n",
    "    '''\n",
    "    df: dataframe of all the ratings\n",
    "    A: the adjacent matrix\n",
    "    x0: initial point \n",
    "    alpha:  The probability of a teleportation into the node is exactly α/n, \n",
    "            (where n is the number of items rated by user)\n",
    "    return: the orderd list of items with their probability of been reached by user\n",
    "    '''\n",
    "    lista = [i for i in range(1,101) if df.ix[user][i]<11]\n",
    "    e_user = np.zeros((int(100),1))\n",
    "    e_user[[i-1 for i in lista]] = 1\n",
    "    n = int(sum(e_user))\n",
    "    difference = 1\n",
    "    itera =0\n",
    "\n",
    "    while difference > tolerance and itera < max_iterations: \n",
    "        itera +=1 \n",
    "        x1 = alpha/n* e_user + (1-alpha)*np.dot(A,x0)\n",
    "        difference = LA.norm(x1-x0,np.inf)\n",
    "        x0=x1\n",
    "#     print \"iteration\" , itera, \", sum of the vector\", sum(x1.flatten())\n",
    "    return x1.flatten()   "
   ]
  },
  {
   "cell_type": "code",
   "execution_count": 89,
   "metadata": {
    "collapsed": false
   },
   "outputs": [
    {
     "name": "stdout",
     "output_type": "stream",
     "text": [
      "[(1, 0.0099364826595181952), (2, 0.0099833245623986502), (3, 0.0099463206740789175)]\n",
      "top 10 items voted by user 31584 are: [5, 7, 8, 13, 15, 16, 17, 18, 19, 20, 50, 36, 53, 27, 29, 35, 32, 62, 68, 69, 66, 49, 65, 31, 21, 61, 54, 56, 42, 48, 28, 46, 26, 39, 40, 38, 14, 12, 11, 47, 22, 45, 34, 63, 6, 52, 25, 10, 70, 55, 23, 51, 41, 64, 43, 59, 60, 2, 67, 30, 37, 33, 3, 57, 1, 24, 58, 4, 9, 44, 99, 97, 98, 95, 92, 93, 96, 94, 91, 100, 88, 86, 90, 84, 89, 87, 76, 83, 80, 82, 81, 85, 78, 72, 79, 73, 71, 75, 77, 74]\n",
      "100\n",
      "with correspond probability: [0.010329557324363239, 0.010329557324363239, 0.010329557324363239, 0.010329557324363239, 0.010329557324363239, 0.010329557324363239, 0.010329557324363239, 0.010329557324363239, 0.010329557324363239, 0.010329557324363239]\n"
     ]
    }
   ],
   "source": [
    "# top k items voted by user\n",
    "users = [index for index, rows in training.iterrows()]\n",
    "user = users[1]\n",
    "item = test.ix[user,0][2]  \n",
    "\n",
    "A = item_item_graph_df.as_matrix()\n",
    "x1= personalized_page_rank(df, user, A)\n",
    "order_list = [(i+1,x1[i]) for i in range(len(x1))]\n",
    "print order_list[:3]\n",
    "order_list.sort(key=lambda x: x[1], reverse=True)\n",
    "pr_items = [it for (it,p) in order_list if df.ix[user,it]<11]\n",
    "pr_prob = [p for (it,p) in order_list if df.ix[user,it]<11]\n",
    "print \"top 10 items voted by user %d are:\"%user,pr_items\n",
    "print len(pr_items)\n",
    "print \"with correspond probability:\",pr_prob[:10]"
   ]
  },
  {
   "cell_type": "code",
   "execution_count": 96,
   "metadata": {
    "collapsed": false,
    "scrolled": true
   },
   "outputs": [],
   "source": [
    "def graph_based_collaborative_pred(user,item, k=10):\n",
    "    \n",
    "    rated_item = [i for i in training.ix[user,0] if i!=item]\n",
    "    A = item_item_graph_df.as_matrix()\n",
    "    x1= personalized_page_rank(df, user, A)\n",
    "    item_prob = [(i+1,x1[i]) for i in range(len(x1)) if i in rated_item]\n",
    "    item_prob.sort(key=lambda x: x[1], reverse=True)\n",
    "    \n",
    "    num,den = 0,0\n",
    "#     print \"\\nThe most similar items to item %d that user have rated:\"%item\n",
    "    for i in item_prob[:k]:    \n",
    "        num += i[1]*df.ix[user,i]\n",
    "        den += np.absolute(i[1])\n",
    "#     print \"(user %6d, item %3d)\"%(user,item),\"pred_rating: %.5f\"%(num/den), \" ----vs---- real rating: %.5f\"%df.ix[user,item]\n",
    "    return num/den"
   ]
  },
  {
   "cell_type": "markdown",
   "metadata": {
    "collapsed": true
   },
   "source": [
    "### 4.2 User-Item graph"
   ]
  },
  {
   "cell_type": "code",
   "execution_count": 232,
   "metadata": {
    "collapsed": false,
    "scrolled": true
   },
   "outputs": [
    {
     "data": {
      "text/html": [
       "<div>\n",
       "<table border=\"1\" class=\"dataframe\">\n",
       "  <thead>\n",
       "    <tr style=\"text-align: right;\">\n",
       "      <th></th>\n",
       "      <th>1</th>\n",
       "      <th>2</th>\n",
       "      <th>3</th>\n",
       "      <th>4</th>\n",
       "      <th>5</th>\n",
       "      <th>6</th>\n",
       "      <th>7</th>\n",
       "      <th>8</th>\n",
       "      <th>9</th>\n",
       "      <th>10</th>\n",
       "      <th>...</th>\n",
       "      <th>91</th>\n",
       "      <th>92</th>\n",
       "      <th>93</th>\n",
       "      <th>94</th>\n",
       "      <th>95</th>\n",
       "      <th>96</th>\n",
       "      <th>97</th>\n",
       "      <th>98</th>\n",
       "      <th>99</th>\n",
       "      <th>100</th>\n",
       "    </tr>\n",
       "  </thead>\n",
       "  <tbody>\n",
       "    <tr>\n",
       "      <th>25832</th>\n",
       "      <td>1</td>\n",
       "      <td>1</td>\n",
       "      <td>0</td>\n",
       "      <td>0</td>\n",
       "      <td>1</td>\n",
       "      <td>1</td>\n",
       "      <td>0</td>\n",
       "      <td>0</td>\n",
       "      <td>0</td>\n",
       "      <td>0</td>\n",
       "      <td>...</td>\n",
       "      <td>0</td>\n",
       "      <td>0</td>\n",
       "      <td>0</td>\n",
       "      <td>0</td>\n",
       "      <td>0</td>\n",
       "      <td>0</td>\n",
       "      <td>0</td>\n",
       "      <td>0</td>\n",
       "      <td>0</td>\n",
       "      <td>0</td>\n",
       "    </tr>\n",
       "    <tr>\n",
       "      <th>31584</th>\n",
       "      <td>0</td>\n",
       "      <td>0</td>\n",
       "      <td>1</td>\n",
       "      <td>0</td>\n",
       "      <td>1</td>\n",
       "      <td>0</td>\n",
       "      <td>0</td>\n",
       "      <td>1</td>\n",
       "      <td>0</td>\n",
       "      <td>0</td>\n",
       "      <td>...</td>\n",
       "      <td>1</td>\n",
       "      <td>1</td>\n",
       "      <td>0</td>\n",
       "      <td>0</td>\n",
       "      <td>0</td>\n",
       "      <td>0</td>\n",
       "      <td>0</td>\n",
       "      <td>1</td>\n",
       "      <td>0</td>\n",
       "      <td>0</td>\n",
       "    </tr>\n",
       "    <tr>\n",
       "      <th>33308</th>\n",
       "      <td>1</td>\n",
       "      <td>0</td>\n",
       "      <td>1</td>\n",
       "      <td>0</td>\n",
       "      <td>0</td>\n",
       "      <td>1</td>\n",
       "      <td>0</td>\n",
       "      <td>1</td>\n",
       "      <td>0</td>\n",
       "      <td>0</td>\n",
       "      <td>...</td>\n",
       "      <td>0</td>\n",
       "      <td>0</td>\n",
       "      <td>0</td>\n",
       "      <td>0</td>\n",
       "      <td>0</td>\n",
       "      <td>0</td>\n",
       "      <td>1</td>\n",
       "      <td>0</td>\n",
       "      <td>0</td>\n",
       "      <td>0</td>\n",
       "    </tr>\n",
       "    <tr>\n",
       "      <th>25217</th>\n",
       "      <td>0</td>\n",
       "      <td>1</td>\n",
       "      <td>0</td>\n",
       "      <td>0</td>\n",
       "      <td>0</td>\n",
       "      <td>0</td>\n",
       "      <td>1</td>\n",
       "      <td>1</td>\n",
       "      <td>1</td>\n",
       "      <td>1</td>\n",
       "      <td>...</td>\n",
       "      <td>0</td>\n",
       "      <td>0</td>\n",
       "      <td>0</td>\n",
       "      <td>0</td>\n",
       "      <td>0</td>\n",
       "      <td>0</td>\n",
       "      <td>0</td>\n",
       "      <td>0</td>\n",
       "      <td>0</td>\n",
       "      <td>0</td>\n",
       "    </tr>\n",
       "    <tr>\n",
       "      <th>37624</th>\n",
       "      <td>0</td>\n",
       "      <td>0</td>\n",
       "      <td>0</td>\n",
       "      <td>0</td>\n",
       "      <td>1</td>\n",
       "      <td>0</td>\n",
       "      <td>1</td>\n",
       "      <td>0</td>\n",
       "      <td>0</td>\n",
       "      <td>0</td>\n",
       "      <td>...</td>\n",
       "      <td>0</td>\n",
       "      <td>0</td>\n",
       "      <td>0</td>\n",
       "      <td>1</td>\n",
       "      <td>0</td>\n",
       "      <td>0</td>\n",
       "      <td>0</td>\n",
       "      <td>0</td>\n",
       "      <td>1</td>\n",
       "      <td>0</td>\n",
       "    </tr>\n",
       "  </tbody>\n",
       "</table>\n",
       "<p>5 rows × 100 columns</p>\n",
       "</div>"
      ],
      "text/plain": [
       "       1    2    3    4    5    6    7    8    9    10  ...   91   92   93   \\\n",
       "25832    1    1    0    0    1    1    0    0    0    0 ...     0    0    0   \n",
       "31584    0    0    1    0    1    0    0    1    0    0 ...     1    1    0   \n",
       "33308    1    0    1    0    0    1    0    1    0    0 ...     0    0    0   \n",
       "25217    0    1    0    0    0    0    1    1    1    1 ...     0    0    0   \n",
       "37624    0    0    0    0    1    0    1    0    0    0 ...     0    0    0   \n",
       "\n",
       "       94   95   96   97   98   99   100  \n",
       "25832    0    0    0    0    0    0    0  \n",
       "31584    0    0    0    0    1    0    0  \n",
       "33308    0    0    0    1    0    0    0  \n",
       "25217    0    0    0    0    0    0    0  \n",
       "37624    1    0    0    0    0    1    0  \n",
       "\n",
       "[5 rows x 100 columns]"
      ]
     },
     "execution_count": 232,
     "metadata": {},
     "output_type": "execute_result"
    }
   ],
   "source": [
    "df_rating_bool\n",
    "df_rating_bool = (df.iloc[:,1:101]<11)*1    # True if there is rating\n",
    "pos_rating_bool = (df.iloc[:,1:101]>0)*1    # True if the rating is positive\n",
    "user_item_bool = df_rating_bool+pos_rating_bool-1\n",
    "user_item_bool.head()                               # positive rating = 1, otherwise 0. "
   ]
  },
  {
   "cell_type": "code",
   "execution_count": 233,
   "metadata": {
    "collapsed": false
   },
   "outputs": [],
   "source": [
    "m = df.shape[0]\n",
    "n = df.shape[1]-1\n",
    "left_up = np.zeros((m,m))\n",
    "right_down = np.zeros((n,n))\n",
    "right_up = user_item_bool.as_matrix()\n",
    "left_down = right_up.T"
   ]
  },
  {
   "cell_type": "code",
   "execution_count": 235,
   "metadata": {
    "collapsed": false
   },
   "outputs": [],
   "source": [
    "user_item_bool = np.vstack((np.hstack((left_up,right_up)), np.hstack((left_down,right_down))))"
   ]
  },
  {
   "cell_type": "code",
   "execution_count": 239,
   "metadata": {
    "collapsed": false,
    "scrolled": true
   },
   "outputs": [
    {
     "data": {
      "text/html": [
       "<div>\n",
       "<table border=\"1\" class=\"dataframe\">\n",
       "  <thead>\n",
       "    <tr style=\"text-align: right;\">\n",
       "      <th></th>\n",
       "      <th>25832</th>\n",
       "      <th>31584</th>\n",
       "      <th>33308</th>\n",
       "      <th>25217</th>\n",
       "      <th>37624</th>\n",
       "      <th>28811</th>\n",
       "      <th>3003</th>\n",
       "      <th>30729</th>\n",
       "      <th>1737</th>\n",
       "      <th>7522</th>\n",
       "      <th>...</th>\n",
       "      <th>item91</th>\n",
       "      <th>item92</th>\n",
       "      <th>item93</th>\n",
       "      <th>item94</th>\n",
       "      <th>item95</th>\n",
       "      <th>item96</th>\n",
       "      <th>item97</th>\n",
       "      <th>item98</th>\n",
       "      <th>item99</th>\n",
       "      <th>item100</th>\n",
       "    </tr>\n",
       "  </thead>\n",
       "  <tbody>\n",
       "    <tr>\n",
       "      <th>0</th>\n",
       "      <td>0.0</td>\n",
       "      <td>0.0</td>\n",
       "      <td>0.0</td>\n",
       "      <td>0.0</td>\n",
       "      <td>0.0</td>\n",
       "      <td>0.0</td>\n",
       "      <td>0.0</td>\n",
       "      <td>0.0</td>\n",
       "      <td>0.0</td>\n",
       "      <td>0.0</td>\n",
       "      <td>...</td>\n",
       "      <td>0.0</td>\n",
       "      <td>0.0</td>\n",
       "      <td>0.0</td>\n",
       "      <td>0.0</td>\n",
       "      <td>0.0</td>\n",
       "      <td>0.0</td>\n",
       "      <td>0.0</td>\n",
       "      <td>0.0</td>\n",
       "      <td>0.0</td>\n",
       "      <td>0.0</td>\n",
       "    </tr>\n",
       "    <tr>\n",
       "      <th>1</th>\n",
       "      <td>0.0</td>\n",
       "      <td>0.0</td>\n",
       "      <td>0.0</td>\n",
       "      <td>0.0</td>\n",
       "      <td>0.0</td>\n",
       "      <td>0.0</td>\n",
       "      <td>0.0</td>\n",
       "      <td>0.0</td>\n",
       "      <td>0.0</td>\n",
       "      <td>0.0</td>\n",
       "      <td>...</td>\n",
       "      <td>1.0</td>\n",
       "      <td>1.0</td>\n",
       "      <td>0.0</td>\n",
       "      <td>0.0</td>\n",
       "      <td>0.0</td>\n",
       "      <td>0.0</td>\n",
       "      <td>0.0</td>\n",
       "      <td>1.0</td>\n",
       "      <td>0.0</td>\n",
       "      <td>0.0</td>\n",
       "    </tr>\n",
       "    <tr>\n",
       "      <th>2</th>\n",
       "      <td>0.0</td>\n",
       "      <td>0.0</td>\n",
       "      <td>0.0</td>\n",
       "      <td>0.0</td>\n",
       "      <td>0.0</td>\n",
       "      <td>0.0</td>\n",
       "      <td>0.0</td>\n",
       "      <td>0.0</td>\n",
       "      <td>0.0</td>\n",
       "      <td>0.0</td>\n",
       "      <td>...</td>\n",
       "      <td>0.0</td>\n",
       "      <td>0.0</td>\n",
       "      <td>0.0</td>\n",
       "      <td>0.0</td>\n",
       "      <td>0.0</td>\n",
       "      <td>0.0</td>\n",
       "      <td>1.0</td>\n",
       "      <td>0.0</td>\n",
       "      <td>0.0</td>\n",
       "      <td>0.0</td>\n",
       "    </tr>\n",
       "    <tr>\n",
       "      <th>3</th>\n",
       "      <td>0.0</td>\n",
       "      <td>0.0</td>\n",
       "      <td>0.0</td>\n",
       "      <td>0.0</td>\n",
       "      <td>0.0</td>\n",
       "      <td>0.0</td>\n",
       "      <td>0.0</td>\n",
       "      <td>0.0</td>\n",
       "      <td>0.0</td>\n",
       "      <td>0.0</td>\n",
       "      <td>...</td>\n",
       "      <td>0.0</td>\n",
       "      <td>0.0</td>\n",
       "      <td>0.0</td>\n",
       "      <td>0.0</td>\n",
       "      <td>0.0</td>\n",
       "      <td>0.0</td>\n",
       "      <td>0.0</td>\n",
       "      <td>0.0</td>\n",
       "      <td>0.0</td>\n",
       "      <td>0.0</td>\n",
       "    </tr>\n",
       "    <tr>\n",
       "      <th>4</th>\n",
       "      <td>0.0</td>\n",
       "      <td>0.0</td>\n",
       "      <td>0.0</td>\n",
       "      <td>0.0</td>\n",
       "      <td>0.0</td>\n",
       "      <td>0.0</td>\n",
       "      <td>0.0</td>\n",
       "      <td>0.0</td>\n",
       "      <td>0.0</td>\n",
       "      <td>0.0</td>\n",
       "      <td>...</td>\n",
       "      <td>0.0</td>\n",
       "      <td>0.0</td>\n",
       "      <td>0.0</td>\n",
       "      <td>1.0</td>\n",
       "      <td>0.0</td>\n",
       "      <td>0.0</td>\n",
       "      <td>0.0</td>\n",
       "      <td>0.0</td>\n",
       "      <td>1.0</td>\n",
       "      <td>0.0</td>\n",
       "    </tr>\n",
       "  </tbody>\n",
       "</table>\n",
       "<p>5 rows × 400 columns</p>\n",
       "</div>"
      ],
      "text/plain": [
       "   25832  31584  33308  25217  37624  28811  3003  30729  1737  7522   ...     \\\n",
       "0    0.0    0.0    0.0    0.0    0.0    0.0   0.0    0.0   0.0   0.0   ...      \n",
       "1    0.0    0.0    0.0    0.0    0.0    0.0   0.0    0.0   0.0   0.0   ...      \n",
       "2    0.0    0.0    0.0    0.0    0.0    0.0   0.0    0.0   0.0   0.0   ...      \n",
       "3    0.0    0.0    0.0    0.0    0.0    0.0   0.0    0.0   0.0   0.0   ...      \n",
       "4    0.0    0.0    0.0    0.0    0.0    0.0   0.0    0.0   0.0   0.0   ...      \n",
       "\n",
       "   item91  item92  item93  item94  item95  item96  item97  item98  item99  \\\n",
       "0     0.0     0.0     0.0     0.0     0.0     0.0     0.0     0.0     0.0   \n",
       "1     1.0     1.0     0.0     0.0     0.0     0.0     0.0     1.0     0.0   \n",
       "2     0.0     0.0     0.0     0.0     0.0     0.0     1.0     0.0     0.0   \n",
       "3     0.0     0.0     0.0     0.0     0.0     0.0     0.0     0.0     0.0   \n",
       "4     0.0     0.0     0.0     1.0     0.0     0.0     0.0     0.0     1.0   \n",
       "\n",
       "   item100  \n",
       "0      0.0  \n",
       "1      0.0  \n",
       "2      0.0  \n",
       "3      0.0  \n",
       "4      0.0  \n",
       "\n",
       "[5 rows x 400 columns]"
      ]
     },
     "execution_count": 239,
     "metadata": {},
     "output_type": "execute_result"
    }
   ],
   "source": [
    "users_ids = [np.str(index) for index, rows in test.iterrows()]\n",
    "items_ids = [\"item\"+ np.str(i) for i in range(1,101)]\n",
    "user_item_df = pd.DataFrame(user_item_bool, columns = np.hstack((users_ids,items_ids)))\n",
    "user_item_df.head()"
   ]
  },
  {
   "cell_type": "code",
   "execution_count": 266,
   "metadata": {
    "collapsed": false
   },
   "outputs": [
    {
     "name": "stdout",
     "output_type": "stream",
     "text": [
      "(400, 400)\n"
     ]
    },
    {
     "ename": "KeyError",
     "evalue": "31584",
     "output_type": "error",
     "traceback": [
      "\u001b[0;31m---------------------------------------------------------------------------\u001b[0m",
      "\u001b[0;31mKeyError\u001b[0m                                  Traceback (most recent call last)",
      "\u001b[0;32m<ipython-input-266-d23fbeedf286>\u001b[0m in \u001b[0;36m<module>\u001b[0;34m()\u001b[0m\n\u001b[1;32m      2\u001b[0m \u001b[0;32mprint\u001b[0m \u001b[0mA\u001b[0m\u001b[0;34m.\u001b[0m\u001b[0mshape\u001b[0m\u001b[0;34m\u001b[0m\u001b[0m\n\u001b[1;32m      3\u001b[0m \u001b[0;34m\u001b[0m\u001b[0m\n\u001b[0;32m----> 4\u001b[0;31m \u001b[0mlista\u001b[0m \u001b[0;34m=\u001b[0m \u001b[0;34m[\u001b[0m\u001b[0mi\u001b[0m \u001b[0;32mfor\u001b[0m \u001b[0mi\u001b[0m \u001b[0;32min\u001b[0m \u001b[0mrange\u001b[0m\u001b[0;34m(\u001b[0m\u001b[0;36m1\u001b[0m\u001b[0;34m,\u001b[0m\u001b[0;36m101\u001b[0m\u001b[0;34m)\u001b[0m \u001b[0;32mif\u001b[0m \u001b[0muser_item_df\u001b[0m\u001b[0;34m.\u001b[0m\u001b[0mix\u001b[0m\u001b[0;34m[\u001b[0m\u001b[0muser\u001b[0m\u001b[0;34m]\u001b[0m\u001b[0;34m[\u001b[0m\u001b[0mi\u001b[0m\u001b[0;34m]\u001b[0m\u001b[0;34m<\u001b[0m\u001b[0;36m11\u001b[0m\u001b[0;34m]\u001b[0m\u001b[0;34m\u001b[0m\u001b[0m\n\u001b[0m\u001b[1;32m      5\u001b[0m \u001b[0me_user\u001b[0m \u001b[0;34m=\u001b[0m \u001b[0mnp\u001b[0m\u001b[0;34m.\u001b[0m\u001b[0mzeros\u001b[0m\u001b[0;34m(\u001b[0m\u001b[0;34m(\u001b[0m\u001b[0mint\u001b[0m\u001b[0;34m(\u001b[0m\u001b[0;36m100\u001b[0m\u001b[0;34m)\u001b[0m\u001b[0;34m,\u001b[0m\u001b[0;36m1\u001b[0m\u001b[0;34m)\u001b[0m\u001b[0;34m)\u001b[0m\u001b[0;34m\u001b[0m\u001b[0m\n\u001b[1;32m      6\u001b[0m \u001b[0me_user\u001b[0m\u001b[0;34m[\u001b[0m\u001b[0;34m[\u001b[0m\u001b[0mi\u001b[0m\u001b[0;34m-\u001b[0m\u001b[0;36m1\u001b[0m \u001b[0;32mfor\u001b[0m \u001b[0mi\u001b[0m \u001b[0;32min\u001b[0m \u001b[0mlista\u001b[0m\u001b[0;34m]\u001b[0m\u001b[0;34m]\u001b[0m \u001b[0;34m=\u001b[0m \u001b[0;36m1\u001b[0m\u001b[0;34m\u001b[0m\u001b[0m\n",
      "\u001b[0;32m//anaconda/lib/python2.7/site-packages/pandas/core/indexing.pyc\u001b[0m in \u001b[0;36m__getitem__\u001b[0;34m(self, key)\u001b[0m\n\u001b[1;32m     76\u001b[0m         \u001b[0;32melse\u001b[0m\u001b[0;34m:\u001b[0m\u001b[0;34m\u001b[0m\u001b[0m\n\u001b[1;32m     77\u001b[0m             \u001b[0mkey\u001b[0m \u001b[0;34m=\u001b[0m \u001b[0mcom\u001b[0m\u001b[0;34m.\u001b[0m\u001b[0m_apply_if_callable\u001b[0m\u001b[0;34m(\u001b[0m\u001b[0mkey\u001b[0m\u001b[0;34m,\u001b[0m \u001b[0mself\u001b[0m\u001b[0;34m.\u001b[0m\u001b[0mobj\u001b[0m\u001b[0;34m)\u001b[0m\u001b[0;34m\u001b[0m\u001b[0m\n\u001b[0;32m---> 78\u001b[0;31m             \u001b[0;32mreturn\u001b[0m \u001b[0mself\u001b[0m\u001b[0;34m.\u001b[0m\u001b[0m_getitem_axis\u001b[0m\u001b[0;34m(\u001b[0m\u001b[0mkey\u001b[0m\u001b[0;34m,\u001b[0m \u001b[0maxis\u001b[0m\u001b[0;34m=\u001b[0m\u001b[0;36m0\u001b[0m\u001b[0;34m)\u001b[0m\u001b[0;34m\u001b[0m\u001b[0m\n\u001b[0m\u001b[1;32m     79\u001b[0m \u001b[0;34m\u001b[0m\u001b[0m\n\u001b[1;32m     80\u001b[0m     \u001b[0;32mdef\u001b[0m \u001b[0m_get_label\u001b[0m\u001b[0;34m(\u001b[0m\u001b[0mself\u001b[0m\u001b[0;34m,\u001b[0m \u001b[0mlabel\u001b[0m\u001b[0;34m,\u001b[0m \u001b[0maxis\u001b[0m\u001b[0;34m=\u001b[0m\u001b[0;36m0\u001b[0m\u001b[0;34m)\u001b[0m\u001b[0;34m:\u001b[0m\u001b[0;34m\u001b[0m\u001b[0m\n",
      "\u001b[0;32m//anaconda/lib/python2.7/site-packages/pandas/core/indexing.pyc\u001b[0m in \u001b[0;36m_getitem_axis\u001b[0;34m(self, key, axis)\u001b[0m\n\u001b[1;32m   1016\u001b[0m                     \u001b[0;32mreturn\u001b[0m \u001b[0mself\u001b[0m\u001b[0;34m.\u001b[0m\u001b[0m_get_loc\u001b[0m\u001b[0;34m(\u001b[0m\u001b[0mkey\u001b[0m\u001b[0;34m,\u001b[0m \u001b[0maxis\u001b[0m\u001b[0;34m=\u001b[0m\u001b[0maxis\u001b[0m\u001b[0;34m)\u001b[0m\u001b[0;34m\u001b[0m\u001b[0m\n\u001b[1;32m   1017\u001b[0m \u001b[0;34m\u001b[0m\u001b[0m\n\u001b[0;32m-> 1018\u001b[0;31m             \u001b[0;32mreturn\u001b[0m \u001b[0mself\u001b[0m\u001b[0;34m.\u001b[0m\u001b[0m_get_label\u001b[0m\u001b[0;34m(\u001b[0m\u001b[0mkey\u001b[0m\u001b[0;34m,\u001b[0m \u001b[0maxis\u001b[0m\u001b[0;34m=\u001b[0m\u001b[0maxis\u001b[0m\u001b[0;34m)\u001b[0m\u001b[0;34m\u001b[0m\u001b[0m\n\u001b[0m\u001b[1;32m   1019\u001b[0m \u001b[0;34m\u001b[0m\u001b[0m\n\u001b[1;32m   1020\u001b[0m     \u001b[0;32mdef\u001b[0m \u001b[0m_getitem_iterable\u001b[0m\u001b[0;34m(\u001b[0m\u001b[0mself\u001b[0m\u001b[0;34m,\u001b[0m \u001b[0mkey\u001b[0m\u001b[0;34m,\u001b[0m \u001b[0maxis\u001b[0m\u001b[0;34m=\u001b[0m\u001b[0;36m0\u001b[0m\u001b[0;34m)\u001b[0m\u001b[0;34m:\u001b[0m\u001b[0;34m\u001b[0m\u001b[0m\n",
      "\u001b[0;32m//anaconda/lib/python2.7/site-packages/pandas/core/indexing.pyc\u001b[0m in \u001b[0;36m_get_label\u001b[0;34m(self, label, axis)\u001b[0m\n\u001b[1;32m     91\u001b[0m             \u001b[0;32mraise\u001b[0m \u001b[0mIndexingError\u001b[0m\u001b[0;34m(\u001b[0m\u001b[0;34m'no slices here, handle elsewhere'\u001b[0m\u001b[0;34m)\u001b[0m\u001b[0;34m\u001b[0m\u001b[0m\n\u001b[1;32m     92\u001b[0m \u001b[0;34m\u001b[0m\u001b[0m\n\u001b[0;32m---> 93\u001b[0;31m         \u001b[0;32mreturn\u001b[0m \u001b[0mself\u001b[0m\u001b[0;34m.\u001b[0m\u001b[0mobj\u001b[0m\u001b[0;34m.\u001b[0m\u001b[0m_xs\u001b[0m\u001b[0;34m(\u001b[0m\u001b[0mlabel\u001b[0m\u001b[0;34m,\u001b[0m \u001b[0maxis\u001b[0m\u001b[0;34m=\u001b[0m\u001b[0maxis\u001b[0m\u001b[0;34m)\u001b[0m\u001b[0;34m\u001b[0m\u001b[0m\n\u001b[0m\u001b[1;32m     94\u001b[0m \u001b[0;34m\u001b[0m\u001b[0m\n\u001b[1;32m     95\u001b[0m     \u001b[0;32mdef\u001b[0m \u001b[0m_get_loc\u001b[0m\u001b[0;34m(\u001b[0m\u001b[0mself\u001b[0m\u001b[0;34m,\u001b[0m \u001b[0mkey\u001b[0m\u001b[0;34m,\u001b[0m \u001b[0maxis\u001b[0m\u001b[0;34m=\u001b[0m\u001b[0;36m0\u001b[0m\u001b[0;34m)\u001b[0m\u001b[0;34m:\u001b[0m\u001b[0;34m\u001b[0m\u001b[0m\n",
      "\u001b[0;32m//anaconda/lib/python2.7/site-packages/pandas/core/generic.pyc\u001b[0m in \u001b[0;36mxs\u001b[0;34m(self, key, axis, level, copy, drop_level)\u001b[0m\n\u001b[1;32m   1747\u001b[0m                                                       drop_level=drop_level)\n\u001b[1;32m   1748\u001b[0m         \u001b[0;32melse\u001b[0m\u001b[0;34m:\u001b[0m\u001b[0;34m\u001b[0m\u001b[0m\n\u001b[0;32m-> 1749\u001b[0;31m             \u001b[0mloc\u001b[0m \u001b[0;34m=\u001b[0m \u001b[0mself\u001b[0m\u001b[0;34m.\u001b[0m\u001b[0mindex\u001b[0m\u001b[0;34m.\u001b[0m\u001b[0mget_loc\u001b[0m\u001b[0;34m(\u001b[0m\u001b[0mkey\u001b[0m\u001b[0;34m)\u001b[0m\u001b[0;34m\u001b[0m\u001b[0m\n\u001b[0m\u001b[1;32m   1750\u001b[0m \u001b[0;34m\u001b[0m\u001b[0m\n\u001b[1;32m   1751\u001b[0m             \u001b[0;32mif\u001b[0m \u001b[0misinstance\u001b[0m\u001b[0;34m(\u001b[0m\u001b[0mloc\u001b[0m\u001b[0;34m,\u001b[0m \u001b[0mnp\u001b[0m\u001b[0;34m.\u001b[0m\u001b[0mndarray\u001b[0m\u001b[0;34m)\u001b[0m\u001b[0;34m:\u001b[0m\u001b[0;34m\u001b[0m\u001b[0m\n",
      "\u001b[0;32m//anaconda/lib/python2.7/site-packages/pandas/indexes/base.pyc\u001b[0m in \u001b[0;36mget_loc\u001b[0;34m(self, key, method, tolerance)\u001b[0m\n\u001b[1;32m   1945\u001b[0m                 \u001b[0;32mreturn\u001b[0m \u001b[0mself\u001b[0m\u001b[0;34m.\u001b[0m\u001b[0m_engine\u001b[0m\u001b[0;34m.\u001b[0m\u001b[0mget_loc\u001b[0m\u001b[0;34m(\u001b[0m\u001b[0mkey\u001b[0m\u001b[0;34m)\u001b[0m\u001b[0;34m\u001b[0m\u001b[0m\n\u001b[1;32m   1946\u001b[0m             \u001b[0;32mexcept\u001b[0m \u001b[0mKeyError\u001b[0m\u001b[0;34m:\u001b[0m\u001b[0;34m\u001b[0m\u001b[0m\n\u001b[0;32m-> 1947\u001b[0;31m                 \u001b[0;32mreturn\u001b[0m \u001b[0mself\u001b[0m\u001b[0;34m.\u001b[0m\u001b[0m_engine\u001b[0m\u001b[0;34m.\u001b[0m\u001b[0mget_loc\u001b[0m\u001b[0;34m(\u001b[0m\u001b[0mself\u001b[0m\u001b[0;34m.\u001b[0m\u001b[0m_maybe_cast_indexer\u001b[0m\u001b[0;34m(\u001b[0m\u001b[0mkey\u001b[0m\u001b[0;34m)\u001b[0m\u001b[0;34m)\u001b[0m\u001b[0;34m\u001b[0m\u001b[0m\n\u001b[0m\u001b[1;32m   1948\u001b[0m \u001b[0;34m\u001b[0m\u001b[0m\n\u001b[1;32m   1949\u001b[0m         \u001b[0mindexer\u001b[0m \u001b[0;34m=\u001b[0m \u001b[0mself\u001b[0m\u001b[0;34m.\u001b[0m\u001b[0mget_indexer\u001b[0m\u001b[0;34m(\u001b[0m\u001b[0;34m[\u001b[0m\u001b[0mkey\u001b[0m\u001b[0;34m]\u001b[0m\u001b[0;34m,\u001b[0m \u001b[0mmethod\u001b[0m\u001b[0;34m=\u001b[0m\u001b[0mmethod\u001b[0m\u001b[0;34m,\u001b[0m \u001b[0mtolerance\u001b[0m\u001b[0;34m=\u001b[0m\u001b[0mtolerance\u001b[0m\u001b[0;34m)\u001b[0m\u001b[0;34m\u001b[0m\u001b[0m\n",
      "\u001b[0;32mpandas/index.pyx\u001b[0m in \u001b[0;36mpandas.index.IndexEngine.get_loc (pandas/index.c:4154)\u001b[0;34m()\u001b[0m\n",
      "\u001b[0;32mpandas/index.pyx\u001b[0m in \u001b[0;36mpandas.index.IndexEngine.get_loc (pandas/index.c:4018)\u001b[0;34m()\u001b[0m\n",
      "\u001b[0;32mpandas/hashtable.pyx\u001b[0m in \u001b[0;36mpandas.hashtable.Int64HashTable.get_item (pandas/hashtable.c:6610)\u001b[0;34m()\u001b[0m\n",
      "\u001b[0;32mpandas/hashtable.pyx\u001b[0m in \u001b[0;36mpandas.hashtable.Int64HashTable.get_item (pandas/hashtable.c:6554)\u001b[0;34m()\u001b[0m\n",
      "\u001b[0;31mKeyError\u001b[0m: 31584"
     ]
    }
   ],
   "source": [
    "A = user_item_df.as_matrix()\n",
    "print A.shape\n",
    "\n",
    "lista = [i for i in range(1,101) if user_item_df.ix[user][i]<11]\n",
    "e_user = np.zeros((int(100),1))\n",
    "e_user[[i-1 for i in lista]] = 1\n",
    "n = int(sum(e_user))\n",
    "difference = 1\n",
    "itera =0\n",
    "\n",
    "while difference > tolerance and itera < max_iterations: \n",
    "    itera +=1 \n",
    "    x1 = alpha/n* e_user + (1-alpha)*np.dot(A,x0)\n",
    "    difference = LA.norm(x1-x0,np.inf)\n",
    "    x0=x1\n",
    "#     print \"iteration\" , itera, \", sum of the vector\", sum(x1.flatten())\n",
    "return x1.flatten() \n",
    "\n",
    "\n",
    "prob = personalized_page_rank(user_item_df, user, A, \n",
    "                           alpha=0.9, \n",
    "                           tolerance = 10**-15, \n",
    "                           max_iterations = 20, \n",
    "                           x0 = (1./100)*np.ones((400,1)))\n",
    "print prob"
   ]
  },
  {
   "cell_type": "code",
   "execution_count": null,
   "metadata": {
    "collapsed": true
   },
   "outputs": [],
   "source": []
  },
  {
   "cell_type": "code",
   "execution_count": null,
   "metadata": {
    "collapsed": true
   },
   "outputs": [],
   "source": []
  },
  {
   "cell_type": "markdown",
   "metadata": {
    "collapsed": true
   },
   "source": [
    "## 5. Evaluation\n",
    "\n",
    "We predict the rating for jokes in the test set, and then we compare it with the ground true ratings. We will use **Normalized Mean Absolute Error (NMAE)** offline evaluation. \n",
    "\n",
    "$$ MAE = \\frac{ \\sum_{(u,j) \\in E} |e_{uj}|}{|E|}$$\n",
    "\n",
    "$$ NMAE = \\frac{MAE}{r_{max} - r_{min}}  $$\n",
    "\n",
    "where\n",
    "\n",
    "- $E$ is the evaluation set.\n",
    "- $ r_{u,j}$ is the known rating of user $u$ for item $j$.\n",
    "- $ \\bar{r_{u,j}}$: estimate rating\n",
    "- $ e_{uj} =  \\bar{r_{u,j}}-r_{u,j} $ \n",
    "- $r_{max} - r_{min}$ is the range of the rating"
   ]
  },
  {
   "cell_type": "code",
   "execution_count": 124,
   "metadata": {
    "collapsed": false
   },
   "outputs": [],
   "source": [
    "def compute_nmae(y_pred, y_true, r_max=10, r_min=-10):\n",
    "    \"\"\" Normalized Mean Absolute Error (NMAE). \"\"\"\n",
    "    return np.mean(np.absolute(y_pred - y_true))/(r_max-r_min)\n",
    "\n",
    "\n",
    "def evaluate(collaborative_pred, test, whole_test_dataset = \"yes\"):\n",
    "    \"\"\" \n",
    "    NMAE-based predictive performance evaluation \n",
    "    If whole_test_dataset is not \"yes\", we evaluate it only for users with less than 15 ratings\n",
    "    \n",
    "    \"\"\"\n",
    "    users = [index for index, rows in test.iterrows()]\n",
    "    if whole_test_dataset==\"no\":\n",
    "        users = [u for u in users if len(np.array([df.ix[u,i] for i in training.ix[u,0]]))<11]\n",
    "\n",
    "        \n",
    "    ids_to_estimate = []\n",
    "    for user in users:\n",
    "        ids_to_estimate.append([(user, item) for item in test.ix[user, 0]])\n",
    "    ids_to_estimate  = [val for sublist in ids_to_estimate for val in sublist]\n",
    "    print \"   number of ratings to be predicted\", len(ids_to_estimate)\n",
    "    \n",
    "    print \"   predicting...\"\n",
    "    predicted_ratings = np.array([collaborative_pred(user, test_item) for (user, test_item) in ids_to_estimate] )\n",
    "    real_ratings = np.array([df.ix[user, test_item] for (user, test_item) in ids_to_estimate])\n",
    "\n",
    "    ''' \n",
    "    print \"Users: \", users\n",
    "    print \"\\nPair to estimate: \", ids_to_estimate\n",
    "    print \"\\nPredicted ratings: \", predicted_ratings\n",
    "    print \"Real ratings: \", real_ratings\n",
    "    '''\n",
    "    return compute_nmae(predicted_ratings, real_ratings)"
   ]
  },
  {
   "cell_type": "markdown",
   "metadata": {},
   "source": [
    "### 5.1 NMAE using whole test dataset"
   ]
  },
  {
   "cell_type": "code",
   "execution_count": 119,
   "metadata": {
    "collapsed": false,
    "scrolled": true
   },
   "outputs": [
    {
     "name": "stdout",
     "output_type": "stream",
     "text": [
      "number of ratings to be predicted 4372\n",
      "predicting...\n",
      "NMAE using Item-Based CF is: 0.1522\n",
      "It took:-- 19.3486 sec\n"
     ]
    }
   ],
   "source": [
    "# unit test for item_base evaluation\n",
    "\n",
    "start_time = time.time()\n",
    "print \"NMAE using Item-Based CF is: %.4f\"%evaluate(item_based_collaborative_pred, test)\n",
    "print  \"It took:-- %.4f sec\" % float((time.time() - start_time))"
   ]
  },
  {
   "cell_type": "code",
   "execution_count": null,
   "metadata": {
    "collapsed": true
   },
   "outputs": [],
   "source": [
    "# unit test for user_base evaluation\n",
    "\n",
    "start_time = time.time()\n",
    "print evaluate(user_based_collaborative_pred, test)\n",
    "print  \"It took:-- %.4f sec\" % float((time.time() - start_time))"
   ]
  },
  {
   "cell_type": "code",
   "execution_count": 111,
   "metadata": {
    "collapsed": false
   },
   "outputs": [
    {
     "name": "stdout",
     "output_type": "stream",
     "text": [
      "number of ratings to be predicted 4372\n",
      "<function content_based_collaborative_pred at 0x11b37d9b0>: predicting...\n",
      "0.193225974182\n",
      "It took:-- 19.8583 sec\n"
     ]
    }
   ],
   "source": [
    "# unit test for content_base evaluation\n",
    "\n",
    "start_time = time.time()\n",
    "print evaluate(content_based_collaborative_pred, test)\n",
    "print  \"It took:-- %.4f sec\" % float((time.time() - start_time))"
   ]
  },
  {
   "cell_type": "code",
   "execution_count": null,
   "metadata": {
    "collapsed": true
   },
   "outputs": [],
   "source": [
    "# unit test for graph_base evaluation\n",
    "\n",
    "start_time = time.time()\n",
    "print evaluate(graph_based_collaborative_pred, test)\n",
    "print  \"It took:-- %.4f sec\" % float((time.time() - start_time))"
   ]
  },
  {
   "cell_type": "markdown",
   "metadata": {},
   "source": [
    "### 5.2 NMAE on those users with 15 or less ratings"
   ]
  },
  {
   "cell_type": "code",
   "execution_count": 99,
   "metadata": {
    "collapsed": false
   },
   "outputs": [
    {
     "name": "stdout",
     "output_type": "stream",
     "text": [
      "[67356, 65986, 70319, 56749, 70656, 72346, 67435, 49493, 70348, 57643, 67683, 63662, 55978, 71279, 57771, 51048, 69991, 54623, 60276, 49522, 70147, 64125, 53643, 66341, 52329, 56083]\n",
      "number of ratings to be predicted 124\n",
      "predicting...\n",
      "0.180465388494\n",
      "It took: -- 0.8122 sec\n"
     ]
    }
   ],
   "source": [
    "start_time = time.time()\n",
    "print evaluate(item_based_collaborative_pred, test, whole_test_dataset=\"no\")\n",
    "print  \"It took: -- %.4f sec\" % float((time.time() - start_time))"
   ]
  },
  {
   "cell_type": "code",
   "execution_count": 100,
   "metadata": {
    "collapsed": false,
    "scrolled": true
   },
   "outputs": [
    {
     "name": "stdout",
     "output_type": "stream",
     "text": [
      "[67356, 65986, 70319, 56749, 70656, 72346, 67435, 49493, 70348, 57643, 67683, 63662, 55978, 71279, 57771, 51048, 69991, 54623, 60276, 49522, 70147, 64125, 53643, 66341, 52329, 56083]\n",
      "number of ratings to be predicted 124\n",
      "predicting...\n",
      "0.194338013046\n",
      "It took: -- 9.5880 sec\n"
     ]
    }
   ],
   "source": [
    "start_time = time.time()\n",
    "print evaluate(user_based_collaborative_pred, test, whole_test_dataset=\"no\")\n",
    "print  \"It took: -- %.4f sec\" % float((time.time() - start_time))"
   ]
  },
  {
   "cell_type": "code",
   "execution_count": 98,
   "metadata": {
    "collapsed": false
   },
   "outputs": [
    {
     "name": "stdout",
     "output_type": "stream",
     "text": [
      "[67356, 65986, 70319, 56749, 70656, 72346, 67435, 49493, 70348, 57643, 67683, 63662, 55978, 71279, 57771, 51048, 69991, 54623, 60276, 49522, 70147, 64125, 53643, 66341, 52329, 56083]\n",
      "number of ratings to be predicted 124\n",
      "predicting...\n",
      "0.232290514453\n",
      "It took: -- 5.1548 sec\n"
     ]
    }
   ],
   "source": [
    "start_time = time.time()\n",
    "print evaluate(content_based_collaborative_pred, test, whole_test_dataset=\"no\")\n",
    "print  \"It took: -- %.4f sec\" % float((time.time() - start_time))"
   ]
  },
  {
   "cell_type": "code",
   "execution_count": 109,
   "metadata": {
    "collapsed": false
   },
   "outputs": [
    {
     "name": "stdout",
     "output_type": "stream",
     "text": [
      "[67356, 65986, 70319, 56749, 70656, 72346, 67435, 49493, 70348, 57643, 67683, 63662, 55978, 71279, 57771, 51048, 69991, 54623, 60276, 49522, 70147, 64125, 53643, 66341, 52329, 56083]\n",
      "number of ratings to be predicted 124\n",
      "predicting...\n",
      "\n",
      "Graph-Based recommender NMAE: 0.2111\n",
      "It took: -- 4.5801 sec\n"
     ]
    }
   ],
   "source": [
    "start_time = time.time()\n",
    "print \"\\nGraph-Based recommender NMAE: %.4f\"%evaluate(graph_based_collaborative_pred, test, whole_test_dataset=\"no\")\n",
    "print  \"It took: -- %.4f sec\" % float((time.time() - start_time))"
   ]
  },
  {
   "cell_type": "markdown",
   "metadata": {},
   "source": [
    "**Comments:**\n",
    "\n",
    "For users with few ratings, item-based collaborative filtering works better than user-based collaborative filtering. "
   ]
  },
  {
   "cell_type": "code",
   "execution_count": null,
   "metadata": {
    "collapsed": true
   },
   "outputs": [],
   "source": []
  },
  {
   "cell_type": "code",
   "execution_count": null,
   "metadata": {
    "collapsed": true
   },
   "outputs": [],
   "source": []
  },
  {
   "cell_type": "code",
   "execution_count": 128,
   "metadata": {
    "collapsed": false
   },
   "outputs": [],
   "source": [
    "def main():\n",
    "    \n",
    "#     df, training, test = getting_data()\n",
    "#     users = [index for index, rows in training.iterrows()]\n",
    "    \n",
    "    print \"====================================================================\"\n",
    "    print \"PartI: Using whole test set \"\n",
    "    print \"====================================================================\"\n",
    "    \n",
    "    start_time = time.time()\n",
    "    \n",
    "    # Item-based CF\n",
    "    print \"ITEM-BASED CF:\"\n",
    "    print \"   ==> NMAE: %.4f\"%evaluate(item_based_collaborative_pred, test)\n",
    "    t1= time.time()\n",
    "    print  \"It took: -- %.4f sec\" %(float(t1 - start_time))\n",
    "    \n",
    "    # user-base CF\n",
    "    print \"\\nUser-Based CF:\"\n",
    "    print \"   ==> NMAE: %.4f\"%evaluate(user_based_collaborative_pred, test)\n",
    "    t2= time.time()\n",
    "    print  \"It took: -- %.4f sec\" %(float(t2 - t1))\n",
    "    \n",
    "    # context-based\n",
    "    print \"\\nContent-Based recommender:\"\n",
    "    print \"   ==> NMAE: %.4f\"%evaluate(content_based_collaborative_pred, test)\n",
    "    t3= time.time()\n",
    "    print  \"It took: -- %.4f sec\" %(float(t3 - t2))\n",
    "    \n",
    "    # graph-based\n",
    "    print \"\\nGraph-Based recommender:\"\n",
    "    print \"   ==> NMAE: %.4f\"%evaluate(graph_based_collaborative_pred, test)\n",
    "    t4= time.time()\n",
    "    print  \"It took: -- %.4f sec\" %(float(t4 - t3))\n",
    "    \n",
    "    print \"\\n\\n====================================================================\"\n",
    "    print \"PartII: Using on those users with 15 or less ratings\"\n",
    "    print \"====================================================================\"\n",
    " \n",
    "    print \"ITEM-BASED CF:\"\n",
    "    print \"   ==> NMAE: %.4f\"%evaluate(item_based_collaborative_pred, test, whole_test_dataset=\"no\")\n",
    "    t5= time.time()\n",
    "    print  \"It took: -- %.4f sec\" %(float(t5 - t4))\n",
    "    \n",
    "    print \"\\nUser-Based CF:\"\n",
    "    print \"   ==> NMAE: %.4f\"%evaluate(user_based_collaborative_pred, test, whole_test_dataset=\"no\")\n",
    "    t6= time.time()\n",
    "    print  \"It took: -- %.4f sec\" %(float(t6 - t5))\n",
    "    \n",
    "    print \"\\nContent-Based recommender:\"\n",
    "    print \"   ==> NMAE: %.4f\"%evaluate(content_based_collaborative_pred, test, whole_test_dataset=\"no\")\n",
    "    t7= time.time()\n",
    "    print  \"It took: -- %.4f sec\" %(float(t7 - t6))\n",
    "    \n",
    "    print \"\\nGraph-Based recommender:\"\n",
    "    print \"   ==> NMAE: %.4f\"%evaluate(graph_based_collaborative_pred, test, whole_test_dataset=\"no\")\n",
    "    t8= time.time()\n",
    "    print  \"It took: -- %.4f sec\" %(float(t8 - t7))"
   ]
  },
  {
   "cell_type": "code",
   "execution_count": 126,
   "metadata": {
    "collapsed": false
   },
   "outputs": [
    {
     "name": "stdout",
     "output_type": "stream",
     "text": [
      "====================================================================\n",
      "PartI: Using whole test set \n",
      "====================================================================\n",
      "ITEM-BASED CF:\n",
      "   number of ratings to be predicted 4372\n",
      "   predicting...\n",
      "NMAE: 0.1522\n",
      "\n",
      "User-Based CF:\n",
      "   number of ratings to be predicted 4372\n",
      "   predicting...\n",
      "NMAE: 0.1749\n",
      "\n",
      "Content-Based recommender:\n",
      "   number of ratings to be predicted 4372\n",
      "   predicting...\n",
      "NMAE: 0.1932\n",
      "\n",
      "Graph-Based recommender:\n",
      "   number of ratings to be predicted 4372\n",
      "   predicting...\n",
      "NMAE: 0.2096\n",
      "\n",
      "\n",
      "====================================================================\n",
      "PartII: Using on those users with 15 or less ratings\n",
      "====================================================================\n",
      "ITEM-BASED CF:\n",
      "[67356, 65986, 70319, 56749, 70656, 72346, 67435, 49493, 70348, 57643, 67683, 63662, 55978, 71279, 57771, 51048, 69991, 54623, 60276, 49522, 70147, 64125, 53643, 66341, 52329, 56083]\n",
      "   number of ratings to be predicted 124\n",
      "   predicting...\n",
      "NMAE: 0.1805\n",
      "\n",
      "User-Based CF:\n",
      "[67356, 65986, 70319, 56749, 70656, 72346, 67435, 49493, 70348, 57643, 67683, 63662, 55978, 71279, 57771, 51048, 69991, 54623, 60276, 49522, 70147, 64125, 53643, 66341, 52329, 56083]\n",
      "   number of ratings to be predicted 124\n",
      "   predicting...\n",
      "NMAE: 0.1943\n",
      "\n",
      "Content-Based recommender:\n",
      "[67356, 65986, 70319, 56749, 70656, 72346, 67435, 49493, 70348, 57643, 67683, 63662, 55978, 71279, 57771, 51048, 69991, 54623, 60276, 49522, 70147, 64125, 53643, 66341, 52329, 56083]\n",
      "   number of ratings to be predicted 124\n",
      "   predicting...\n",
      "NMAE: 0.2249\n",
      "\n",
      "Graph-Based recommender:\n",
      "[67356, 65986, 70319, 56749, 70656, 72346, 67435, 49493, 70348, 57643, 67683, 63662, 55978, 71279, 57771, 51048, 69991, 54623, 60276, 49522, 70147, 64125, 53643, 66341, 52329, 56083]\n",
      "   number of ratings to be predicted 124\n",
      "   predicting...\n",
      "NMAE: 0.2111\n"
     ]
    }
   ],
   "source": [
    "# Running the main function\n",
    "if __name__==\"__main__\":\n",
    "    main()"
   ]
  },
  {
   "cell_type": "code",
   "execution_count": null,
   "metadata": {
    "collapsed": true
   },
   "outputs": [],
   "source": []
  },
  {
   "cell_type": "code",
   "execution_count": null,
   "metadata": {
    "collapsed": true
   },
   "outputs": [],
   "source": []
  },
  {
   "cell_type": "code",
   "execution_count": null,
   "metadata": {
    "collapsed": true
   },
   "outputs": [],
   "source": []
  },
  {
   "cell_type": "code",
   "execution_count": null,
   "metadata": {
    "collapsed": true
   },
   "outputs": [],
   "source": []
  }
 ],
 "metadata": {
  "anaconda-cloud": {},
  "kernelspec": {
   "display_name": "Python [Root]",
   "language": "python",
   "name": "Python [Root]"
  },
  "language_info": {
   "codemirror_mode": {
    "name": "ipython",
    "version": 2
   },
   "file_extension": ".py",
   "mimetype": "text/x-python",
   "name": "python",
   "nbconvert_exporter": "python",
   "pygments_lexer": "ipython2",
   "version": "2.7.12"
  }
 },
 "nbformat": 4,
 "nbformat_minor": 1
}
